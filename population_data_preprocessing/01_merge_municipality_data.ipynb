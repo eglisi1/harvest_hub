{
 "cells": [
  {
   "cell_type": "code",
   "execution_count": 3,
   "outputs": [],
   "source": [
    "import json\n",
    "import pandas as pd\n",
    "\n",
    "# load data\n",
    "with open('../data/municipality_borders.geojson', 'r') as geojson_file:\n",
    "    geojson_data = json.load(geojson_file)\n",
    "\n",
    "csv_data = pd.read_csv('../data/population_data.csv')"
   ],
   "metadata": {
    "collapsed": false,
    "ExecuteTime": {
     "end_time": "2024-04-06T08:37:06.276727600Z",
     "start_time": "2024-04-06T08:37:06.214655700Z"
    }
   }
  },
  {
   "cell_type": "code",
   "execution_count": 4,
   "outputs": [
    {
     "data": {
      "text/plain": "(  BFS;GEMEINDE;Bevoelkerung_20-64\n 0              131;Adliswil;12120\n 1             241;Aesch (ZH);1011\n 2          1;Aeugst am Albis;1210\n 3       2;Affoltern am Albis;7731\n 4                 211;Altikon;432,\n {'type': 'Feature',\n  'properties': {'BFS': 117,\n   'NAME': 'Hinwil',\n   'BEZIRKSNAM': 'Hinwil',\n   'ART_TEXT': 'Gemeinde',\n   'ART_CODE': 1},\n  'geometry': {'type': 'Polygon',\n   'coordinates': [[[8.847781115143963, 47.32409547958538],\n     [8.85860959968332, 47.321623363987094],\n     [8.865388842573168, 47.323014843191096],\n     [8.872682282932749, 47.31815598568517],\n     [8.886942790747097, 47.31663449079118],\n     [8.889044678155368, 47.31788204327347],\n     [8.894165445833671, 47.313092892419405],\n     [8.896102489121994, 47.31293418058575],\n     [8.899114775013048, 47.31314595149962],\n     [8.900187385514435, 47.31222170908761],\n     [8.907614348731368, 47.31143183182875],\n     [8.90795150130765, 47.311478068673274],\n     [8.905804611637135, 47.30894930053905],\n     [8.891948712248642, 47.309152608030914],\n     [8.887463788058838, 47.29674475455347],\n     [8.891654696650448, 47.29110198404055],\n     [8.890391319524774, 47.282490706217175],\n     [8.884521663403229, 47.280430298147614],\n     [8.874523574178419, 47.28908889239667],\n     [8.85772133229337, 47.28649829788456],\n     [8.856684111678684, 47.28323793883926],\n     [8.852920714741996, 47.28245829902768],\n     [8.84809113741009, 47.29108363813692],\n     [8.834225196608408, 47.28990469653668],\n     [8.825243726924974, 47.28491369116982],\n     [8.827457651119843, 47.28117581094508],\n     [8.82493851166325, 47.27964302666418],\n     [8.821317890200582, 47.2845351181386],\n     [8.816469562266246, 47.283703186652374],\n     [8.81273411718121, 47.29381075392579],\n     [8.809518272838291, 47.297668575979884],\n     [8.814068993548371, 47.30194092664832],\n     [8.804289090778457, 47.30887325434599],\n     [8.818832564818754, 47.318705437111724],\n     [8.826945870854376, 47.312068270409505],\n     [8.839469401480255, 47.312109810824246],\n     [8.840627048834723, 47.32665952098483],\n     [8.844737949237848, 47.32841178005249],\n     [8.847781115143963, 47.32409547958538]]]}})"
     },
     "execution_count": 4,
     "metadata": {},
     "output_type": "execute_result"
    }
   ],
   "source": [
    "# inspect the first few rows of the CSV and the structure of one GeoJSON feature\n",
    "csv_head = csv_data.head()\n",
    "geojson_feature_example = geojson_data['features'][0] if geojson_data['features'] else None\n",
    "\n",
    "csv_head, geojson_feature_example"
   ],
   "metadata": {
    "collapsed": false,
    "ExecuteTime": {
     "end_time": "2024-04-06T08:37:18.027705400Z",
     "start_time": "2024-04-06T08:37:18.025602700Z"
    }
   }
  },
  {
   "cell_type": "code",
   "execution_count": 5,
   "outputs": [
    {
     "data": {
      "text/plain": "   BFS            GEMEINDE Population\n0  131            Adliswil      12120\n1  241          Aesch (ZH)       1011\n2    1     Aeugst am Albis       1210\n3    2  Affoltern am Albis       7731\n4  211             Altikon        432",
      "text/html": "<div>\n<style scoped>\n    .dataframe tbody tr th:only-of-type {\n        vertical-align: middle;\n    }\n\n    .dataframe tbody tr th {\n        vertical-align: top;\n    }\n\n    .dataframe thead th {\n        text-align: right;\n    }\n</style>\n<table border=\"1\" class=\"dataframe\">\n  <thead>\n    <tr style=\"text-align: right;\">\n      <th></th>\n      <th>BFS</th>\n      <th>GEMEINDE</th>\n      <th>Population</th>\n    </tr>\n  </thead>\n  <tbody>\n    <tr>\n      <th>0</th>\n      <td>131</td>\n      <td>Adliswil</td>\n      <td>12120</td>\n    </tr>\n    <tr>\n      <th>1</th>\n      <td>241</td>\n      <td>Aesch (ZH)</td>\n      <td>1011</td>\n    </tr>\n    <tr>\n      <th>2</th>\n      <td>1</td>\n      <td>Aeugst am Albis</td>\n      <td>1210</td>\n    </tr>\n    <tr>\n      <th>3</th>\n      <td>2</td>\n      <td>Affoltern am Albis</td>\n      <td>7731</td>\n    </tr>\n    <tr>\n      <th>4</th>\n      <td>211</td>\n      <td>Altikon</td>\n      <td>432</td>\n    </tr>\n  </tbody>\n</table>\n</div>"
     },
     "execution_count": 5,
     "metadata": {},
     "output_type": "execute_result"
    }
   ],
   "source": [
    "# Parse the CSV data correctly, splitting the column into BFS, Gemeinde (municipality), and population\n",
    "csv_data_parsed = csv_data['BFS;GEMEINDE;Bevoelkerung_20-64'].str.split(';', expand=True)\n",
    "csv_data_parsed.columns = ['BFS', 'GEMEINDE', 'Population']\n",
    "csv_data_parsed['BFS'] = csv_data_parsed['BFS'].astype(int)\n",
    "\n",
    "csv_data_parsed.head()"
   ],
   "metadata": {
    "collapsed": false,
    "ExecuteTime": {
     "end_time": "2024-04-06T08:37:38.373480100Z",
     "start_time": "2024-04-06T08:37:38.342281Z"
    }
   }
  },
  {
   "cell_type": "markdown",
   "source": [],
   "metadata": {
    "collapsed": false
   }
  },
  {
   "cell_type": "code",
   "execution_count": 7,
   "outputs": [
    {
     "data": {
      "text/plain": "'../data/municipality_borders_population_data.geojson'"
     },
     "execution_count": 7,
     "metadata": {},
     "output_type": "execute_result"
    }
   ],
   "source": [
    "# update the municipality geojson data with the corresponding population data\n",
    "\n",
    "for feature in geojson_data['features']:\n",
    "    bfs_number = feature['properties'].get('BFS')\n",
    "    population_row = csv_data_parsed[csv_data_parsed['BFS'] == bfs_number]\n",
    "    if not population_row.empty:\n",
    "        feature['properties']['Population'] = int(population_row['Population'].values[0])\n",
    "\n",
    "updated_geojson_path = '../data/municipality_borders_population_data.geojson'\n",
    "with open(updated_geojson_path, 'w') as updated_geojson_file:\n",
    "    json.dump(geojson_data, updated_geojson_file)\n",
    "\n",
    "updated_geojson_path\n"
   ],
   "metadata": {
    "collapsed": false,
    "ExecuteTime": {
     "end_time": "2024-04-06T08:38:27.172077500Z",
     "start_time": "2024-04-06T08:38:27.053955100Z"
    }
   }
  }
 ],
 "metadata": {
  "kernelspec": {
   "display_name": "Python 3",
   "language": "python",
   "name": "python3"
  },
  "language_info": {
   "codemirror_mode": {
    "name": "ipython",
    "version": 2
   },
   "file_extension": ".py",
   "mimetype": "text/x-python",
   "name": "python",
   "nbconvert_exporter": "python",
   "pygments_lexer": "ipython2",
   "version": "2.7.6"
  }
 },
 "nbformat": 4,
 "nbformat_minor": 0
}
