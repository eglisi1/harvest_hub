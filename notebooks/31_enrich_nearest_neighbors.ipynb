{
 "cells": [
  {
   "cell_type": "code",
   "execution_count": 7,
   "metadata": {},
   "outputs": [],
   "source": [
    "import json \n",
    "\n",
    "path_processed_data = '../data/processed_data/'\n",
    "\n",
    "with open(path_processed_data + 'farms.geojson', 'r') as file:\n",
    "    farms_data = json.load(file)\n",
    "\n",
    "with open(path_processed_data + 'enriched_buildings_with_farms.geojson', 'r') as file:\n",
    "    buildings_data = json.load(file)"
   ]
  },
  {
   "cell_type": "code",
   "execution_count": 8,
   "metadata": {},
   "outputs": [],
   "source": [
    "farms_dict = {feature['id']: feature['properties'] for feature in farms_data['features']}\n",
    "\n",
    "# Enrich the buildings GeoJSON with farm categories and products\n",
    "for building in buildings_data['features']:\n",
    "    for nearby_farm in building['properties'].get('nearby_farms', []):\n",
    "        farm_id = nearby_farm['farm_id']\n",
    "        if farm_id in farms_dict:\n",
    "            farm_properties = farms_dict[farm_id]\n",
    "            nearby_farm['categories'] = [item['category'] for item in farm_properties.get('lebensmittel', [])]\n",
    "            nearby_farm['products'] = [product for item in farm_properties.get('lebensmittel', []) for product in item['products']]"
   ]
  },
  {
   "cell_type": "code",
   "execution_count": 10,
   "metadata": {},
   "outputs": [
    {
     "name": "stdout",
     "output_type": "stream",
     "text": [
      "Saved the enriched buildings data with nearby farms details to top_200_buildings_with_farms_details.geojson\n"
     ]
    }
   ],
   "source": [
    "top_n = 200\n",
    "\n",
    "for building in buildings_data[\"features\"]:\n",
    "    total_products = sum(\n",
    "        len(farm[\"products\"]) for farm in building[\"properties\"].get(\"nearby_farms\", [])\n",
    "    )\n",
    "    building[\"properties\"][\"total_products\"] = total_products\n",
    "\n",
    "sorted_buildings = sorted(\n",
    "    buildings_data[\"features\"],\n",
    "    key=lambda x: x[\"properties\"][\"total_products\"],\n",
    "    reverse=True,\n",
    ")\n",
    "\n",
    "top_buildings = sorted_buildings[:top_n]\n",
    "\n",
    "buildings_data[\"features\"] = top_buildings\n",
    "\n",
    "# Save the sorted and trimmed GeoJSON to a new file\n",
    "output_filename = f\"top_{top_n}_buildings_with_farms_details.geojson\"\n",
    "with open(path_processed_data + output_filename, \"w\") as file:\n",
    "    json.dump(buildings_data, file, ensure_ascii=False, indent=4)\n",
    "\n",
    "print(\n",
    "    f\"Saved the enriched buildings data with nearby farms details to {output_filename}\"\n",
    ")"
   ]
  }
 ],
 "metadata": {
  "kernelspec": {
   "display_name": ".venv",
   "language": "python",
   "name": "python3"
  },
  "language_info": {
   "codemirror_mode": {
    "name": "ipython",
    "version": 3
   },
   "file_extension": ".py",
   "mimetype": "text/x-python",
   "name": "python",
   "nbconvert_exporter": "python",
   "pygments_lexer": "ipython3",
   "version": "3.12.2"
  }
 },
 "nbformat": 4,
 "nbformat_minor": 2
}
