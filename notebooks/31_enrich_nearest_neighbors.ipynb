{
 "cells": [
  {
   "cell_type": "code",
   "execution_count": 2,
   "metadata": {},
   "outputs": [],
   "source": [
    "import json \n",
    "\n",
    "path_processed_data = '../data/processed_data/'\n",
    "\n",
    "with open(path_processed_data + 'farms.geojson', 'r') as file:\n",
    "    farms_data = json.load(file)\n",
    "\n",
    "with open(path_processed_data + 'enriched_buildings_with_farms.geojson', 'r') as file:\n",
    "    buildings_data = json.load(file)"
   ]
  },
  {
   "cell_type": "code",
   "execution_count": 4,
   "metadata": {},
   "outputs": [
    {
     "name": "stdout",
     "output_type": "stream",
     "text": [
      "Saved the enriched buildings data with nearby farms details to ../data/processed_data/enriched_buildings_with_farms_details.geojson\n"
     ]
    }
   ],
   "source": [
    "farms_dict = {feature['id']: feature['properties'] for feature in farms_data['features']}\n",
    "\n",
    "# Enrich the buildings GeoJSON with farm categories and products\n",
    "for building in buildings_data['features']:\n",
    "    for nearby_farm in building['properties'].get('nearby_farms', []):\n",
    "        farm_id = nearby_farm['farm_id']\n",
    "        if farm_id in farms_dict:\n",
    "            farm_properties = farms_dict[farm_id]\n",
    "            nearby_farm['categories'] = [item['category'] for item in farm_properties.get('lebensmittel', [])]\n",
    "            nearby_farm['products'] = [product for item in farm_properties.get('lebensmittel', []) for product in item['products']]\n",
    "\n",
    "# Save the enriched GeoJSON to a file\n",
    "output_filename = path_processed_data + 'enriched_buildings_with_farms_details.geojson'\n",
    "with open(output_filename, 'w') as file:\n",
    "    json.dump(buildings_data, file, ensure_ascii=False, indent=4)\n",
    "\n",
    "print(f\"Saved the enriched buildings data with nearby farms details to {output_filename}\")\n"
   ]
  }
 ],
 "metadata": {
  "kernelspec": {
   "display_name": ".venv",
   "language": "python",
   "name": "python3"
  },
  "language_info": {
   "codemirror_mode": {
    "name": "ipython",
    "version": 3
   },
   "file_extension": ".py",
   "mimetype": "text/x-python",
   "name": "python",
   "nbconvert_exporter": "python",
   "pygments_lexer": "ipython3",
   "version": "3.12.2"
  }
 },
 "nbformat": 4,
 "nbformat_minor": 2
}
