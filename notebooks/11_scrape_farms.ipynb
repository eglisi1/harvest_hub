{
 "cells": [
  {
   "cell_type": "markdown",
   "metadata": {},
   "source": [
    "# Scrape data from [Schweizer Bauern](https://www.hofsuche.schweizerbauern.ch)"
   ]
  },
  {
   "cell_type": "markdown",
   "metadata": {},
   "source": [
    "## filter data\n",
    "We're only interested in farms from zurich, so we filter the data accordingly (``extSearch.query.q=Zürich``): https://www.hofsuche.schweizerbauern.ch/de?extSearch.query.q=Zürich&project=vomhof&extSearch=true"
   ]
  },
  {
   "cell_type": "code",
   "execution_count": null,
   "metadata": {},
   "outputs": [],
   "source": [
    "from selenium import webdriver\n",
    "from selenium.webdriver.common.by import By\n",
    "from selenium.webdriver.chrome.options import Options\n",
    "from time import sleep\n",
    "\n",
    "options = Options()\n",
    "options.headless = True\n",
    "driver = webdriver.Chrome(options=options)\n",
    "\n",
    "farm_data = []\n",
    "\n",
    "try:\n",
    "    driver.get(\"https://www.hofsuche.schweizerbauern.ch/de?extSearch.query.q=Zürich&project=vomhof&extSearch=true\")\n",
    "    sleep(5)\n",
    "\n",
    "    # Click the \"Mehr laden\" button until it's no longer available or a set number of times to load all content\n",
    "    while True:\n",
    "        # Scroll to the bottom of the page\n",
    "        driver.execute_script(\"window.scrollTo(0, document.body.scrollHeight);\")\n",
    "        sleep(2)  # wait for the page to scroll down and content to load\n",
    "\n",
    "        try:\n",
    "            load_more_button = driver.find_element(By.XPATH, '//button[contains(., \"Mehr laden\")]')\n",
    "            load_more_button.click()\n",
    "            sleep(4)  # wait for the content to load after clicking\n",
    "        except Exception as e:\n",
    "            print(\"All content loaded or button not found.\")\n",
    "            break\n",
    "\n",
    "    # Extract the required data\n",
    "    farm_cards = driver.find_elements(By.CSS_SELECTOR, 'a[href*=\"/de/farm/\"]')\n",
    "    for card in farm_cards:\n",
    "        href = card.get_attribute(\"href\")\n",
    "        title = card.find_element(By.CSS_SELECTOR, \"div.card.de\").get_attribute(\"title\")\n",
    "        farm_data.append({\"title\": title, \"url\": href})\n",
    "\n",
    "finally:\n",
    "    driver.quit()\n",
    "\n",
    "print(farm_data)"
   ]
  },
  {
   "cell_type": "code",
   "execution_count": null,
   "metadata": {},
   "outputs": [],
   "source": [
    "import csv\n",
    "\n",
    "with open(\"../data/raw_data/farm_overview.csv\", mode=\"w\", newline=\"\", encoding=\"utf-8\") as file:\n",
    "    writer = csv.writer(file)\n",
    "    writer.writerow([\"Title\", \"URL\"])\n",
    "\n",
    "    for farm in farm_data:\n",
    "        writer.writerow([farm[\"title\"], farm[\"url\"]])"
   ]
  }
 ],
 "metadata": {
  "kernelspec": {
   "display_name": ".venv",
   "language": "python",
   "name": "python3"
  },
  "language_info": {
   "codemirror_mode": {
    "name": "ipython",
    "version": 3
   },
   "file_extension": ".py",
   "mimetype": "text/x-python",
   "name": "python",
   "nbconvert_exporter": "python",
   "pygments_lexer": "ipython3",
   "version": "3.12.2"
  }
 },
 "nbformat": 4,
 "nbformat_minor": 2
}
