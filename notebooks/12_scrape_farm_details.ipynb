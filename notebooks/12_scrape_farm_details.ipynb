{
 "cells": [
  {
   "cell_type": "markdown",
   "metadata": {},
   "source": [
    "# Scrape farm details"
   ]
  },
  {
   "cell_type": "code",
   "execution_count": null,
   "metadata": {},
   "outputs": [],
   "source": [
    "# load csv data\n",
    "\n",
    "import csv\n",
    "\n",
    "farm_overview = []\n",
    "with open('../data/raw_data/farm_overview.csv', mode='r') as f:\n",
    "    reader = csv.reader(f)\n",
    "    for row in reader:\n",
    "        farm_overview.append(row)\n",
    "\n",
    "farm_overview = farm_overview[1:]  # remove header\n",
    "\n",
    "print(farm_overview)"
   ]
  },
  {
   "cell_type": "code",
   "execution_count": null,
   "metadata": {},
   "outputs": [],
   "source": [
    "from selenium import webdriver\n",
    "from selenium.webdriver.common.by import By\n",
    "from selenium.webdriver.chrome.options import Options\n",
    "from selenium.webdriver.support.ui import WebDriverWait\n",
    "from selenium.webdriver.support import expected_conditions as EC\n",
    "import time\n",
    "\n",
    "from typing import Dict\n",
    "\n",
    "def scrape_detail(url: str) -> Dict:\n",
    "    # Set up Selenium with Chrome\n",
    "    options = Options()\n",
    "    options.headless = True\n",
    "    driver = webdriver.Chrome(options=options)\n",
    "\n",
    "    # url example: \"https://www.hofsuche.schweizerbauern.ch/de/farm/langacherhof-9795/vomhof\"\n",
    "    driver.get(url)\n",
    "\n",
    "    # Wait for the content to load\n",
    "    # wait = WebDriverWait(driver, 10)\n",
    "    # wait.until(EC.presence_of_element_located((By.CLASS_NAME, 'address-block')))\n",
    "\n",
    "    time.sleep(3)\n",
    "\n",
    "\n",
    "    # Extract the address\n",
    "    address_block = driver.find_element(By.CLASS_NAME, 'address-block')\n",
    "    address = address_block.text if address_block else 'Address not found'\n",
    "\n",
    "    # Extract the \"Lebensmittel\" information\n",
    "    lebensmittel_data = []\n",
    "    lebensmittel_sections = driver.find_elements(By.CSS_SELECTOR, '.detail-section .comp-vomhof-offer-rubric')\n",
    "\n",
    "    for section in lebensmittel_sections:\n",
    "        category = section.find_element(By.CSS_SELECTOR, '.sub.label').text\n",
    "        products = section.find_elements(By.CSS_SELECTOR, '.product-name')\n",
    "        product_names = [product.text for product in products if product.text]\n",
    "        \n",
    "        lebensmittel_data.append({'category': category, 'products': product_names})\n",
    "\n",
    "    farm_info = {'address': address, 'lebensmittel': lebensmittel_data}\n",
    "\n",
    "    driver.quit()\n",
    "\n",
    "    # Now `farm_info` contains all the required information\n",
    "    print(farm_info)\n",
    "    return farm_info\n"
   ]
  },
  {
   "cell_type": "code",
   "execution_count": null,
   "metadata": {},
   "outputs": [],
   "source": [
    "farm_details = []\n",
    "\n",
    "for farm in farm_overview:\n",
    "    farm_name = farm[0]\n",
    "    farm_url = farm[1]\n",
    "    farm_info = scrape_detail(farm_url)\n",
    "    farm_details.append({\"name\": farm_name, \"info\": farm_info})"
   ]
  },
  {
   "cell_type": "code",
   "execution_count": null,
   "metadata": {},
   "outputs": [],
   "source": [
    "import json\n",
    "\n",
    "with open(\"../data/raw_data/farm_details.json\", \"w\", encoding='utf-8') as f:\n",
    "    json.dump(farm_details, f, ensure_ascii=False, indent=4)"
   ]
  }
 ],
 "metadata": {
  "kernelspec": {
   "display_name": ".venv",
   "language": "python",
   "name": "python3"
  },
  "language_info": {
   "codemirror_mode": {
    "name": "ipython",
    "version": 3
   },
   "file_extension": ".py",
   "mimetype": "text/x-python",
   "name": "python",
   "nbconvert_exporter": "python",
   "pygments_lexer": "ipython3",
   "version": "3.12.2"
  }
 },
 "nbformat": 4,
 "nbformat_minor": 2
}
