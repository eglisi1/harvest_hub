{
 "cells": [
  {
   "cell_type": "code",
   "execution_count": null,
   "metadata": {},
   "outputs": [],
   "source": [
    "import json\n",
    "\n",
    "with open(\"../data/raw_data/farm_details.json\") as f:\n",
    "    farm_data = json.load(f)"
   ]
  },
  {
   "cell_type": "code",
   "execution_count": null,
   "metadata": {},
   "outputs": [],
   "source": [
    "# remove the first line from each address\n",
    "\n",
    "for farm in farm_data:\n",
    "    # Get the full address from the farm data\n",
    "    address = farm[\"info\"][\"address\"]\n",
    "\n",
    "    # Split the address by newline character and keep everything after the first line\n",
    "    parts = address.split(\"\\n\")\n",
    "    if len(parts) > 1:\n",
    "        # Join the parts back, excluding the first line\n",
    "        updated_address = \"\\n\".join(parts[1:])\n",
    "        farm[\"info\"][\"address\"] = updated_address"
   ]
  },
  {
   "cell_type": "code",
   "execution_count": null,
   "metadata": {},
   "outputs": [],
   "source": [
    "import requests\n",
    "\n",
    "# Define base url for address search\n",
    "base_url = \"https://api3.geo.admin.ch/rest/services/api/SearchServer?\"\n",
    "\n",
    "# Set up search parameters: address, origins and type\n",
    "parameters = {\n",
    "    \"searchText\": \"8400 Winterthur, Theaterstrasse 17\",\n",
    "    \"origins\": \"address\",\n",
    "    \"type\": \"locations\",\n",
    "}"
   ]
  },
  {
   "cell_type": "code",
   "execution_count": null,
   "metadata": {},
   "outputs": [],
   "source": [
    "import urllib\n",
    "import pandas as pd\n",
    "\n",
    "# Server request\n",
    "r = requests.get(f\"{base_url}{urllib.parse.urlencode(parameters)}\")\n",
    "\n",
    "# Get data in json-format\n",
    "data = json.loads(r.content)\n",
    "data\n",
    "\n",
    "# Take only the first server response, convert to data frame with relevant infos\n",
    "df = pd.DataFrame.from_dict(list(data.values())[0][0], orient=\"columns\")\n",
    "df.iloc[[1, 4, 5, 6, 11, 12], :1]"
   ]
  },
  {
   "cell_type": "code",
   "execution_count": null,
   "metadata": {},
   "outputs": [],
   "source": [
    "from typing import Dict\n",
    "\n",
    "\n",
    "# define function to get coordinates from address\n",
    "def get_coordinates(address: str, verbose: bool = False) -> Dict[float, float]:\n",
    "    base_url = \"https://api3.geo.admin.ch/rest/services/api/SearchServer?\"\n",
    "    parameters = {\n",
    "        \"searchText\": address,\n",
    "        \"origins\": \"address\",\n",
    "        \"type\": \"locations\",\n",
    "    }\n",
    "\n",
    "    response = requests.get(f\"{base_url}{urllib.parse.urlencode(parameters)}\")\n",
    "    data = json.loads(response.content)\n",
    "\n",
    "    if \"results\" in data and data[\"results\"]:\n",
    "        attrs = data[\"results\"][0][\"attrs\"]\n",
    "        if \"lat\" in attrs and \"lon\" in attrs:\n",
    "            return {\"lat\": attrs[\"lat\"], \"lon\": attrs[\"lon\"]}\n",
    "        else:\n",
    "            (\n",
    "                print(f\"Latitude and longitude not found in the results for address {address}\")\n",
    "                if verbose\n",
    "                else None\n",
    "            )\n",
    "    else:\n",
    "        (\n",
    "            print(f\"Unexpected data structure for address {address}: {data}\")\n",
    "            if verbose\n",
    "            else None\n",
    "        )\n",
    "\n",
    "    return None"
   ]
  },
  {
   "cell_type": "code",
   "execution_count": null,
   "metadata": {},
   "outputs": [],
   "source": [
    "valid_farms = []\n",
    "amount_errors = 0\n",
    "\n",
    "# define coordinates for each farm\n",
    "for farm in farm_data:\n",
    "    address = farm[\"info\"][\"address\"]\n",
    "    coordinates = get_coordinates(address)\n",
    "    if coordinates:\n",
    "        farm[\"info\"][\"coordinates\"] = coordinates\n",
    "        valid_farms.append(farm)\n",
    "    else:\n",
    "        amount_errors += 1\n",
    "\n",
    "print(f\"Amount of farms with errors: {amount_errors}\")\n",
    "print(f\"In percentage: {amount_errors / len(farm_data) * 100}%\")"
   ]
  },
  {
   "cell_type": "code",
   "execution_count": null,
   "metadata": {},
   "outputs": [],
   "source": [
    "farm_data = valid_farms\n",
    "\n",
    "geojson = {\n",
    "    \"type\": \"FeatureCollection\",\n",
    "    \"name\": \"buildings\",\n",
    "    \"crs\": {\"type\": \"name\", \"properties\": {\"name\": \"urn:ogc:def:crs:EPSG::2056\"}},\n",
    "    \"features\": [],\n",
    "}\n",
    "\n",
    "# Convert each farm entry to a GeoJSON feature\n",
    "for farm in farm_data:\n",
    "    feature = {\n",
    "        \"type\": \"Feature\",\n",
    "        \"properties\": {\n",
    "            \"name\": farm[\"name\"],\n",
    "            \"address\": farm[\"info\"][\"address\"],\n",
    "            \"lebensmittel\": farm[\"info\"][\"lebensmittel\"],\n",
    "            # more properties if needed\n",
    "        },\n",
    "        \"geometry\": {\n",
    "            \"type\": \"Point\",\n",
    "            \"coordinates\": [\n",
    "                farm[\"info\"][\"coordinates\"][\"lon\"],\n",
    "                farm[\"info\"][\"coordinates\"][\"lat\"],\n",
    "            ],\n",
    "        },\n",
    "    }\n",
    "    geojson[\"features\"].append(feature)"
   ]
  },
  {
   "cell_type": "code",
   "execution_count": null,
   "metadata": {},
   "outputs": [],
   "source": [
    "# assign to each farm a unique id\n",
    "for idx, feature in enumerate(geojson[\"features\"]):\n",
    "    feature[\"id\"] = idx"
   ]
  },
  {
   "cell_type": "code",
   "execution_count": null,
   "metadata": {},
   "outputs": [],
   "source": [
    "# assign to each farm a unique id\n",
    "for idx, feature in enumerate(geojson[\"features\"]):\n",
    "    feature[\"id\"] = idx"
   ]
  },
  {
   "cell_type": "code",
   "execution_count": null,
   "metadata": {},
   "outputs": [],
   "source": [
    "# save file\n",
    "with open(\"../data/processed_data/farms.geojson\", \"w\", encoding=\"utf-8\") as file:\n",
    "    json.dump(geojson, file, ensure_ascii=False, indent=4)"
   ]
  }
 ],
 "metadata": {
  "kernelspec": {
   "display_name": ".venv",
   "language": "python",
   "name": "python3"
  },
  "language_info": {
   "codemirror_mode": {
    "name": "ipython",
    "version": 3
   },
   "file_extension": ".py",
   "mimetype": "text/x-python",
   "name": "python",
   "nbconvert_exporter": "python",
   "pygments_lexer": "ipython3",
   "version": "3.12.3"
  }
 },
 "nbformat": 4,
 "nbformat_minor": 2
}
