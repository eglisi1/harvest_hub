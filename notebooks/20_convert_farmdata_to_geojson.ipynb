{
 "cells": [
  {
   "cell_type": "code",
   "execution_count": 1,
   "metadata": {},
   "outputs": [],
   "source": [
    "import json\n",
    "\n",
    "with open(\"../data/raw_data/farm_details.json\") as f:\n",
    "    farm_data = json.load(f)"
   ]
  },
  {
   "cell_type": "code",
   "execution_count": 2,
   "metadata": {},
   "outputs": [],
   "source": [
    "# remove the first line from each address\n",
    "\n",
    "for farm in farm_data:\n",
    "    # Get the full address from the farm data\n",
    "    address = farm[\"info\"][\"address\"]\n",
    "\n",
    "    # Split the address by newline character and keep everything after the first line\n",
    "    parts = address.split(\"\\n\")\n",
    "    if len(parts) > 1:\n",
    "        # Join the parts back, excluding the first line\n",
    "        updated_address = \"\\n\".join(parts[1:])\n",
    "        farm[\"info\"][\"address\"] = updated_address"
   ]
  },
  {
   "cell_type": "markdown",
   "metadata": {},
   "source": [
    "## define base url for search"
   ]
  },
  {
   "cell_type": "code",
   "execution_count": 3,
   "metadata": {},
   "outputs": [],
   "source": [
    "import requests\n",
    "\n",
    "# Define base url for address search\n",
    "base_url= \"https://api3.geo.admin.ch/rest/services/api/SearchServer?\"\n",
    "\n",
    "# Set up search parameters: address, origins and type\n",
    "parameters = {\"searchText\": \"8400 Winterthur, Theaterstrasse 17\",\n",
    "              \"origins\": \"address\",\n",
    "              \"type\": \"locations\",\n",
    "             }\n",
    "\n",
    "# Urllib.parse.urlencode turns parameters into url\n",
    "# print(f\"{base_url}{urllib.parse.urlencode(parameters)}\")"
   ]
  },
  {
   "cell_type": "code",
   "execution_count": 4,
   "metadata": {},
   "outputs": [
    {
     "data": {
      "text/html": [
       "<div>\n",
       "<style scoped>\n",
       "    .dataframe tbody tr th:only-of-type {\n",
       "        vertical-align: middle;\n",
       "    }\n",
       "\n",
       "    .dataframe tbody tr th {\n",
       "        vertical-align: top;\n",
       "    }\n",
       "\n",
       "    .dataframe thead th {\n",
       "        text-align: right;\n",
       "    }\n",
       "</style>\n",
       "<table border=\"1\" class=\"dataframe\">\n",
       "  <thead>\n",
       "    <tr style=\"text-align: right;\">\n",
       "      <th></th>\n",
       "      <th>attrs</th>\n",
       "    </tr>\n",
       "  </thead>\n",
       "  <tbody>\n",
       "    <tr>\n",
       "      <th>featureId</th>\n",
       "      <td>2323240_0</td>\n",
       "    </tr>\n",
       "    <tr>\n",
       "      <th>label</th>\n",
       "      <td>Theaterstrasse 17 &lt;b&gt;8400 Winterthur&lt;/b&gt;</td>\n",
       "    </tr>\n",
       "    <tr>\n",
       "      <th>lat</th>\n",
       "      <td>47.503517</td>\n",
       "    </tr>\n",
       "    <tr>\n",
       "      <th>lon</th>\n",
       "      <td>8.727852</td>\n",
       "    </tr>\n",
       "    <tr>\n",
       "      <th>x</th>\n",
       "      <td>262216.125</td>\n",
       "    </tr>\n",
       "    <tr>\n",
       "      <th>y</th>\n",
       "      <td>697128.5625</td>\n",
       "    </tr>\n",
       "  </tbody>\n",
       "</table>\n",
       "</div>"
      ],
      "text/plain": [
       "                                              attrs\n",
       "featureId                                 2323240_0\n",
       "label      Theaterstrasse 17 <b>8400 Winterthur</b>\n",
       "lat                                       47.503517\n",
       "lon                                        8.727852\n",
       "x                                        262216.125\n",
       "y                                       697128.5625"
      ]
     },
     "execution_count": 4,
     "metadata": {},
     "output_type": "execute_result"
    }
   ],
   "source": [
    "import urllib\n",
    "import pandas as pd\n",
    "\n",
    "# Server request\n",
    "r = requests.get(f\"{base_url}{urllib.parse.urlencode(parameters)}\")\n",
    "\n",
    "# Get data in json-format\n",
    "data = json.loads(r.content)\n",
    "data\n",
    "\n",
    "# Take only the first server response, convert to data frame with relevant infos\n",
    "df = pd.DataFrame.from_dict(list(data.values())[0][0], orient='columns')\n",
    "df.iloc[[1,4,5,6,11,12],:1]"
   ]
  },
  {
   "cell_type": "code",
   "execution_count": 5,
   "metadata": {},
   "outputs": [],
   "source": [
    "from typing import Dict\n",
    "\n",
    "\n",
    "def get_coordinates(address: str, verbose: bool = False) -> Dict[float, float]:\n",
    "    base_url = \"https://api3.geo.admin.ch/rest/services/api/SearchServer?\"\n",
    "    parameters = {\n",
    "        \"searchText\": address,\n",
    "        \"origins\": \"address\",\n",
    "        \"type\": \"locations\",\n",
    "    }\n",
    "\n",
    "    response = requests.get(f\"{base_url}{urllib.parse.urlencode(parameters)}\")\n",
    "    data = json.loads(response.content)\n",
    "\n",
    "    if \"results\" in data and data[\"results\"]:\n",
    "        attrs = data[\"results\"][0][\"attrs\"]\n",
    "        if \"lat\" in attrs and \"lon\" in attrs:\n",
    "            return {\"lat\": attrs[\"lat\"], \"lon\": attrs[\"lon\"]}\n",
    "        else:\n",
    "            print(f\"Latitude and longitude not found in the results for address {address}\") if verbose else None\n",
    "    else:\n",
    "        print(f\"Unexpected data structure for address {address}: {data}\") if verbose else None\n",
    "\n",
    "    return None"
   ]
  },
  {
   "cell_type": "code",
   "execution_count": 6,
   "metadata": {},
   "outputs": [
    {
     "name": "stdout",
     "output_type": "stream",
     "text": [
      "Amount of farms with errors: 16\n",
      "In percentage: 4.289544235924933%\n"
     ]
    }
   ],
   "source": [
    "valid_farms = []\n",
    "amount_errors = 0\n",
    "\n",
    "for farm in farm_data:\n",
    "    address = farm['info']['address']\n",
    "    coordinates = get_coordinates(address)\n",
    "    if coordinates:\n",
    "        farm['info']['coordinates'] = coordinates\n",
    "        valid_farms.append(farm)\n",
    "    else:\n",
    "        amount_errors += 1\n",
    "\n",
    "print(f\"Amount of farms with errors: {amount_errors}\")\n",
    "print(f\"In percentage: {amount_errors / len(farm_data) * 100}%\")"
   ]
  },
  {
   "cell_type": "code",
   "execution_count": 7,
   "metadata": {},
   "outputs": [],
   "source": [
    "farm_data = valid_farms\n",
    "\n",
    "geojson = {\n",
    "    \"type\": \"FeatureCollection\",\n",
    "    \"name\": \"buildings\",\n",
    "    \"crs\": {\"type\": \"name\", \"properties\": {\"name\": \"urn:ogc:def:crs:EPSG::2056\"}},\n",
    "    \"features\": [],\n",
    "}\n",
    "\n",
    "# Convert each farm entry to a GeoJSON feature\n",
    "for farm in farm_data:\n",
    "    feature = {\n",
    "        \"type\": \"Feature\",\n",
    "        \"properties\": {\n",
    "            \"name\": farm[\"name\"],\n",
    "            \"address\": farm[\"info\"][\"address\"],\n",
    "            \"lebensmittel\": farm[\"info\"][\"lebensmittel\"],\n",
    "            # more properties if needed\n",
    "        },\n",
    "        \"geometry\": {\n",
    "            \"type\": \"Point\",\n",
    "            \"coordinates\": [\n",
    "                farm[\"info\"][\"coordinates\"][\"lon\"],\n",
    "                farm[\"info\"][\"coordinates\"][\"lat\"],\n",
    "            ],\n",
    "        },\n",
    "    }\n",
    "    geojson[\"features\"].append(feature)"
   ]
  },
  {
   "cell_type": "code",
   "execution_count": 8,
   "metadata": {},
   "outputs": [],
   "source": [
    "# assign to each farm a unique id\n",
    "for idx, feature in enumerate(geojson[\"features\"]):\n",
    "    feature[\"id\"] = idx"
   ]
  },
  {
   "cell_type": "code",
   "execution_count": 9,
   "metadata": {},
   "outputs": [],
   "source": [
    "# assign to each farm a unique id\n",
    "for idx, feature in enumerate(geojson[\"features\"]):\n",
    "    feature[\"id\"] = idx"
   ]
  },
  {
   "cell_type": "code",
   "execution_count": 9,
   "metadata": {},
   "outputs": [],
   "source": [
    "with open('../data/processed_data/farms.geojson', 'w', encoding='utf-8') as file:\n",
    "    json.dump(geojson, file, ensure_ascii=False, indent=4)\n"
   ]
  }
 ],
 "metadata": {
  "kernelspec": {
   "display_name": ".venv",
   "language": "python",
   "name": "python3"
  },
  "language_info": {
   "codemirror_mode": {
    "name": "ipython",
    "version": 3
   },
   "file_extension": ".py",
   "mimetype": "text/x-python",
   "name": "python",
   "nbconvert_exporter": "python",
   "pygments_lexer": "ipython3",
   "version": "3.12.2"
  }
 },
 "nbformat": 4,
 "nbformat_minor": 2
}
