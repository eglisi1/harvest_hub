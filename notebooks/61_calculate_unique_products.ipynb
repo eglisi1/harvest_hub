{
 "cells": [
  {
   "cell_type": "code",
   "execution_count": 6,
   "metadata": {
    "collapsed": true,
    "ExecuteTime": {
     "end_time": "2024-05-11T11:36:33.185563200Z",
     "start_time": "2024-05-11T11:36:33.169864400Z"
    }
   },
   "outputs": [],
   "source": [
    "import json\n",
    "import csv"
   ]
  },
  {
   "cell_type": "code",
   "execution_count": 4,
   "outputs": [],
   "source": [
    "file_path = '../data/processed_data/top_building_per_municipality_with_isochrones.geojson'\n",
    "with open(file_path, 'r') as file:\n",
    "    geojson_data = json.load(file)\n",
    "\n",
    "for feature in geojson_data['features']:\n",
    "    # Initialize an empty set to store unique products\n",
    "    unique_products = set()\n",
    "\n",
    "    # Check if 'nearby_farms' property exists\n",
    "    if 'nearby_farms' in feature['properties']:\n",
    "        # Iterate over each farm's product list\n",
    "        for farm in feature['properties']['nearby_farms']:\n",
    "            # Add products to the set, which handles uniqueness\n",
    "            unique_products.update(farm['products'])\n",
    "\n",
    "    # Add the count of unique products as a new property\n",
    "    feature['properties']['unique_product_count'] = len(unique_products)\n",
    "\n",
    "output_path = '../data/processed_data/top_building_per_municipality_with_isochrones_and_unique_products.geojson'\n",
    "with open(output_path, 'w') as outfile:\n",
    "    json.dump(geojson_data, outfile, indent=4)\n"
   ],
   "metadata": {
    "collapsed": false,
    "ExecuteTime": {
     "end_time": "2024-05-11T11:28:03.836479700Z",
     "start_time": "2024-05-11T11:28:03.416935Z"
    }
   }
  },
  {
   "cell_type": "code",
   "execution_count": 14,
   "outputs": [],
   "source": [
    "# Load the GeoJSON file\n",
    "file_path = '../data/processed_data/top_building_per_municipality_with_isochrones_and_unique_products.geojson'\n",
    "with open(file_path, 'r') as file:\n",
    "    geojson_data = json.load(file)\n",
    "\n",
    "# Open a new CSV file to write into\n",
    "output_csv_path = '../data/processed_data/municipality_population_and_products.csv'\n",
    "with open(output_csv_path, mode='w', newline='') as csv_file:\n",
    "    fieldnames = ['municipalityName', 'unique_product_count', 'total_pop_5', 'total_pop_10', 'total_pop_15']\n",
    "    writer = csv.DictWriter(csv_file, fieldnames=fieldnames)\n",
    "\n",
    "    # Write the header row\n",
    "    writer.writeheader()\n",
    "\n",
    "    # Loop through each feature to extract the desired data\n",
    "    for feature in geojson_data['features']:\n",
    "        # Extracting data from properties and nested properties\n",
    "        municipalityName = feature['properties'].get('municipalityName', 'N/A')\n",
    "        unique_product_count = feature['properties'].get('unique_product_count', 0)\n",
    "\n",
    "        # Extracting total_pop from nested properties, ensuring proper path and fallback\n",
    "        total_pop_5 = feature['properties'].get('isochrone_within_5_mode_driving-car', {}).get('features', [{}])[0].get('properties', {}).get('total_pop', 'N/A')\n",
    "        total_pop_10 = feature['properties'].get('isochrone_within_10_mode_driving-car', {}).get('features', [{}])[0].get('properties', {}).get('total_pop', 'N/A')\n",
    "        total_pop_15 = feature['properties'].get('isochrone_within_15_mode_driving-car', {}).get('features', [{}])[0].get('properties', {}).get('total_pop', 'N/A')\n",
    "\n",
    "\n",
    "        # Write the data for the current feature to the CSV\n",
    "        writer.writerow({\n",
    "            'municipalityName': municipalityName,\n",
    "            'unique_product_count': unique_product_count,\n",
    "            'total_pop_5': total_pop_5,\n",
    "            'total_pop_10': total_pop_10,\n",
    "            'total_pop_15': total_pop_15\n",
    "        })\n"
   ],
   "metadata": {
    "collapsed": false,
    "ExecuteTime": {
     "end_time": "2024-05-11T11:46:27.859750Z",
     "start_time": "2024-05-11T11:46:27.794471200Z"
    }
   }
  }
 ],
 "metadata": {
  "kernelspec": {
   "display_name": "Python 3",
   "language": "python",
   "name": "python3"
  },
  "language_info": {
   "codemirror_mode": {
    "name": "ipython",
    "version": 2
   },
   "file_extension": ".py",
   "mimetype": "text/x-python",
   "name": "python",
   "nbconvert_exporter": "python",
   "pygments_lexer": "ipython2",
   "version": "2.7.6"
  }
 },
 "nbformat": 4,
 "nbformat_minor": 0
}
