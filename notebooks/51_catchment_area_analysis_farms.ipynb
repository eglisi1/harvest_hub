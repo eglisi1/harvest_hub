{
 "cells": [
  {
   "cell_type": "markdown",
   "metadata": {},
   "source": [
    "# Catchement area of farms"
   ]
  },
  {
   "cell_type": "code",
   "execution_count": null,
   "metadata": {},
   "outputs": [],
   "source": [
    "import os\n",
    "\n",
    "\n",
    "def get_env_variable(var_name: str) -> str:\n",
    "    try:\n",
    "        value = os.environ[var_name]\n",
    "        return value\n",
    "    except KeyError:\n",
    "        raise EnvironmentError(f\"Missing required environment variable: {var_name}\")"
   ]
  },
  {
   "cell_type": "markdown",
   "metadata": {},
   "source": [
    "## define api key"
   ]
  },
  {
   "cell_type": "code",
   "execution_count": null,
   "metadata": {},
   "outputs": [],
   "source": [
    "api_key = get_env_variable(\"ORS_API_KEY\")"
   ]
  },
  {
   "cell_type": "markdown",
   "metadata": {},
   "source": [
    "## load building data"
   ]
  },
  {
   "cell_type": "code",
   "execution_count": null,
   "metadata": {},
   "outputs": [],
   "source": [
    "import geopandas as gpd\n",
    "\n",
    "gdf = gpd.read_file(\"../data/processed_data/top_building_per_municipality.geojson\")\n",
    "print(gdf.shape)\n",
    "gdf.head()"
   ]
  },
  {
   "cell_type": "markdown",
   "metadata": {},
   "source": [
    "## Create function to create isochrones"
   ]
  },
  {
   "cell_type": "code",
   "execution_count": null,
   "metadata": {},
   "outputs": [],
   "source": [
    "from openrouteservice import client\n",
    "import json\n",
    "\n",
    "# Client settings\n",
    "ors = client.Client(key=api_key)\n",
    "\n",
    "\n",
    "def create_isochrone(longitude: float, latitude: float, traveltime: int = 5, transport_mode = \"cycling-regular\") -> str:\n",
    "    params_iso = {\n",
    "        \"profile\": transport_mode,\n",
    "        \"range\": [traveltime * 60],\n",
    "        \"attributes\": [\"total_pop\"],\n",
    "        \"locations\": [[longitude, latitude]],\n",
    "    }\n",
    "\n",
    "    try:\n",
    "        result = ors.isochrones(**params_iso)\n",
    "        return json.dumps(result)\n",
    "    except Exception as e:\n",
    "        print(\"Error creating isochrone:\", e)\n",
    "        return json.dumps({\"error\": str(e)})"
   ]
  },
  {
   "cell_type": "markdown",
   "metadata": {},
   "source": [
    "## Create isochrones for buildings"
   ]
  },
  {
   "cell_type": "markdown",
   "metadata": {},
   "source": [
    "### available profiles\n",
    "* driving-car\n",
    "* driving-hgv\n",
    "* cycling-regular\n",
    "* cycling-road\n",
    "* cycling-mountain\n",
    "* cycling-electric\n",
    "* foot-walking\n",
    "* foot-hiking\n",
    "* wheelchair"
   ]
  },
  {
   "cell_type": "code",
   "execution_count": null,
   "metadata": {},
   "outputs": [],
   "source": [
    "import time\n",
    "\n",
    "driving_times = [5, 10, 15]\n",
    "transport_modes = [\"cycling-regular\", \"foot-walking\", \"driving-car\"]\n",
    "\n",
    "# create isochrones for all buildings\n",
    "for transport in transport_modes:\n",
    "    for driving_time in [5, 10, 15]:\n",
    "        for idx, row in gdf.iterrows():\n",
    "            print(f'Processing building with index \"{idx}, driving time \"{driving_time} minutes\" and transport mode \"{transport}')\n",
    "            try:\n",
    "                result = create_isochrone(row[\"geometry\"].x, row[\"geometry\"].y, driving_time, transport)\n",
    "                time.sleep(3) # wait for n seconds\n",
    "                gdf.loc[idx, f\"isochrone_within_{driving_time}_mode_{transport}\"] = result\n",
    "            except Exception as e:\n",
    "                print(f\"Failed to process building {idx}: {e}\")\n",
    "        print(f\"Finished processing isochrones for {driving_time} minutes with transport mode {transport}\")\n",
    "    print(f\"Finished processing isochrones for transport mode {transport}\")\n",
    "\n",
    "gdf.to_file('../data/processed_data/top_building_per_municipality_with_isochrones.geojson', driver='GeoJSON')"
   ]
  },
  {
   "cell_type": "markdown",
   "metadata": {},
   "source": [
    "## create a summary table"
   ]
  },
  {
   "cell_type": "code",
   "execution_count": null,
   "metadata": {},
   "outputs": [],
   "source": [
    "def extract_population(row, column_name):\n",
    "    try:\n",
    "        return json.loads(row[column_name])['features'][0]['properties']['total_pop']\n",
    "    except (KeyError, TypeError, json.JSONDecodeError):\n",
    "        return None\n",
    "\n",
    "# List of isochrone columns in your DataFrame\n",
    "isochrone_columns = [col for col in gdf.columns if col.startswith('isochrone_within')]\n",
    "\n",
    "# Extract population data for each isochrone column\n",
    "for col in isochrone_columns:\n",
    "    gdf[f'{col}_pop'] = gdf.apply(lambda row: extract_population(row, col), axis=1)\n",
    "\n",
    "# Create a summary table with total populations by municipality and isochrone\n",
    "municipality_iso_pop = gdf.groupby('municipalityName')[[f'{col}_pop' for col in isochrone_columns]].sum().reset_index()\n",
    "\n",
    "# Rename columns for clarity in the summary table\n",
    "column_renames = {f'{col}_pop': col for col in isochrone_columns}\n",
    "municipality_iso_pop = municipality_iso_pop.rename(columns=column_renames)\n",
    "\n",
    "# remove columns with suffix _pop\n",
    "municipality_iso_pop = municipality_iso_pop[[col for col in municipality_iso_pop.columns if not col.endswith('_pop')]]\n",
    "\n",
    "print(municipality_iso_pop.head())"
   ]
  },
  {
   "cell_type": "code",
   "execution_count": null,
   "metadata": {},
   "outputs": [],
   "source": [
    "municipality_iso_pop.to_csv(\n",
    "    \"../data/processed_data/municipality_isochrone_population.csv\",\n",
    "    index=False,\n",
    "    delimiter=\";\",\n",
    ")"
   ]
  },
  {
   "cell_type": "markdown",
   "metadata": {},
   "source": [
    "## filter the buildings with the highest population"
   ]
  },
  {
   "cell_type": "code",
   "execution_count": null,
   "metadata": {},
   "outputs": [],
   "source": [
    "def sort_gdf_by_population_and_rename(gdf, column_name, amount=5):\n",
    "    # Convert the column's stringified JSON to actual JSON and then extract the population data\n",
    "    gdf[\"total_pop\"] = gdf.apply(\n",
    "        lambda row: (\n",
    "            json.loads(row[column_name])[\"features\"][0][\"properties\"][\"total_pop\"]\n",
    "            if row[column_name] is not None\n",
    "            else None\n",
    "        ),\n",
    "        axis=1,\n",
    "    )\n",
    "\n",
    "    # Remove rows where population data is not available\n",
    "    gdf = gdf.dropna(subset=[\"total_pop\"])\n",
    "\n",
    "    # Sort the DataFrame based on the total population in descending order\n",
    "    sorted_gdf = gdf.sort_values(by=\"total_pop\", ascending=False)\n",
    "\n",
    "    # Drop all columns starting with \"isochrone\" except the one used for sorting\n",
    "    columns_to_keep = [col for col in sorted_gdf.columns if not col.startswith(\"isochrone\") or col == column_name]\n",
    "    sorted_gdf = sorted_gdf[columns_to_keep]\n",
    "\n",
    "    # Rename the remaining isochrone column to \"isochrone_data\"\n",
    "    sorted_gdf = sorted_gdf.rename(columns={column_name: \"isochrone_data\"})\n",
    "\n",
    "    return sorted_gdf.head(amount)"
   ]
  },
  {
   "cell_type": "code",
   "execution_count": null,
   "metadata": {},
   "outputs": [],
   "source": [
    "sorted_gdf = sort_gdf_by_population_and_rename(gdf, 'isochrone_within_15_mode_cycling-regular')"
   ]
  },
  {
   "cell_type": "markdown",
   "metadata": {},
   "source": [
    "## display with folium"
   ]
  },
  {
   "cell_type": "code",
   "execution_count": null,
   "metadata": {},
   "outputs": [],
   "source": [
    "import folium\n",
    "import json\n",
    "\n",
    "column_name = \"isochrone_data\"\n",
    "\n",
    "map_center = [47.3769, 8.5417]  # Default to Zurich, Switzerland\n",
    "\n",
    "m = folium.Map(location=map_center, zoom_start=12, tiles=\"CartoDB positron\")\n",
    "\n",
    "# Step 2: Add isochrones to the map\n",
    "for idx, row in sorted_gdf.iterrows():\n",
    "    if column_name in row and row[column_name]:\n",
    "        try:\n",
    "            # Parse the JSON string back to a dictionary\n",
    "            isochrone_data = json.loads(row[column_name])\n",
    "\n",
    "            # Use Folium's GeoJson to add it to the map\n",
    "            folium.GeoJson(\n",
    "                isochrone_data,\n",
    "                name=f\"Isochrone {idx}\",\n",
    "                style_function=lambda feature: {\n",
    "                    \"fillColor\": \"#blue\",\n",
    "                    \"color\": \"blue\",\n",
    "                    \"weight\": 2,\n",
    "                    \"dashArray\": \"5, 5\",\n",
    "                    \"fillOpacity\": 0.5,\n",
    "                },\n",
    "            ).add_to(m)\n",
    "        except json.JSONDecodeError:\n",
    "            print(f\"Failed to decode JSON for row {idx}\")\n",
    "\n",
    "# Add layer control to toggle layers\n",
    "folium.LayerControl().add_to(m)\n",
    "\n",
    "# Display the map\n",
    "m"
   ]
  }
 ],
 "metadata": {
  "kernelspec": {
   "display_name": ".venv",
   "language": "python",
   "name": "python3"
  },
  "language_info": {
   "codemirror_mode": {
    "name": "ipython",
    "version": 3
   },
   "file_extension": ".py",
   "mimetype": "text/x-python",
   "name": "python",
   "nbconvert_exporter": "python",
   "pygments_lexer": "ipython3",
   "version": "3.12.3"
  }
 },
 "nbformat": 4,
 "nbformat_minor": 2
}
