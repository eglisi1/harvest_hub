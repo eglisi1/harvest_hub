{
 "cells": [
  {
   "cell_type": "code",
   "execution_count": 16,
   "metadata": {},
   "outputs": [],
   "source": [
    "import geopandas as gpd\n",
    "\n",
    "municipalities_gdf = gpd.read_file('../data/processed_data/municipality_borders_population_data.geojson')\n",
    "buildings_gdf = gpd.read_file('../data/processed_data/processed_buildings.geojson')"
   ]
  },
  {
   "cell_type": "code",
   "execution_count": 17,
   "metadata": {},
   "outputs": [],
   "source": [
    "# Check and set CRS\n",
    "if buildings_gdf.crs != municipalities_gdf.crs:\n",
    "    buildings_gdf = buildings_gdf.to_crs(municipalities_gdf.crs)"
   ]
  },
  {
   "cell_type": "code",
   "execution_count": 18,
   "metadata": {},
   "outputs": [
    {
     "name": "stdout",
     "output_type": "stream",
     "text": [
      "       egid  buildingStatus  buildingCategory  buildingClass  \\\n",
      "0    103124            1004              1060           1252   \n",
      "1    103194            1004              1060           1252   \n",
      "2  11516126            1004              1060           1252   \n",
      "3   1156661            1004              1060           1252   \n",
      "4    116693            1004              1060           1252   \n",
      "\n",
      "   municipalityNumber municipalityName                    geometry  \\\n",
      "0                 199       Volketswil  POINT (-19.91808 32.12491)   \n",
      "1                 199       Volketswil  POINT (-19.91808 32.12491)   \n",
      "2                 261          ZÃ¼rich  POINT (-19.91808 32.12491)   \n",
      "3                 230       Winterthur  POINT (-19.91808 32.12491)   \n",
      "4                 243         Dietikon  POINT (-19.91808 32.12491)   \n",
      "\n",
      "   index_right  BFS NAME BEZIRKSNAM ART_TEXT  ART_CODE  Population  \n",
      "0          NaN  NaN  NaN        NaN      NaN       NaN         NaN  \n",
      "1          NaN  NaN  NaN        NaN      NaN       NaN         NaN  \n",
      "2          NaN  NaN  NaN        NaN      NaN       NaN         NaN  \n",
      "3          NaN  NaN  NaN        NaN      NaN       NaN         NaN  \n",
      "4          NaN  NaN  NaN        NaN      NaN       NaN         NaN  \n"
     ]
    }
   ],
   "source": [
    "# Perform the spatial join\n",
    "joined_gdf = gpd.sjoin(buildings_gdf, municipalities_gdf, how=\"left\", predicate=\"within\")\n",
    "print(joined_gdf.head())"
   ]
  }
 ],
 "metadata": {
  "kernelspec": {
   "display_name": ".venv",
   "language": "python",
   "name": "python3"
  },
  "language_info": {
   "codemirror_mode": {
    "name": "ipython",
    "version": 3
   },
   "file_extension": ".py",
   "mimetype": "text/x-python",
   "name": "python",
   "nbconvert_exporter": "python",
   "pygments_lexer": "ipython3",
   "version": "3.12.2"
  }
 },
 "nbformat": 4,
 "nbformat_minor": 2
}
