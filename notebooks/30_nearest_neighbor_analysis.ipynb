{
 "cells": [
  {
   "cell_type": "markdown",
   "metadata": {},
   "source": [
    "## prepare geodataframe of buildings"
   ]
  },
  {
   "cell_type": "code",
   "execution_count": 14,
   "metadata": {},
   "outputs": [
    {
     "name": "stdout",
     "output_type": "stream",
     "text": [
      "          buildingStatus  buildingCategory  buildingClass  municipalityNumber  \\\n",
      "egid                                                                            \n",
      "103124              1004              1060           1252                 199   \n",
      "103194              1004              1060           1252                 199   \n",
      "11516126            1004              1060           1252                 261   \n",
      "1156661             1004              1060           1252                 230   \n",
      "116693              1004              1060           1252                 243   \n",
      "\n",
      "         municipalityName              geometry  \n",
      "egid                                             \n",
      "103124         Volketswil  POINT (8.673 47.389)  \n",
      "103194         Volketswil  POINT (8.662 47.392)  \n",
      "11516126          ZÃ¼rich  POINT (8.524 47.353)  \n",
      "1156661        Winterthur  POINT (8.775 47.479)  \n",
      "116693           Dietikon  POINT (8.406 47.412)  \n"
     ]
    }
   ],
   "source": [
    "import geopandas as gpd\n",
    "\n",
    "df_building_geo = gpd.read_file(\"../data/preprocessed_buildings.geojson\")\n",
    "df_building_geo.set_index(\"egid\", inplace=True)\n",
    "\n",
    "df_building_geo.set_crs(epsg=4326, allow_override=True)\n",
    "\n",
    "print(df_building_geo.head())"
   ]
  },
  {
   "cell_type": "markdown",
   "metadata": {},
   "source": [
    "## prepare geodataframe of farms"
   ]
  },
  {
   "cell_type": "code",
   "execution_count": 15,
   "metadata": {},
   "outputs": [
    {
     "name": "stdout",
     "output_type": "stream",
     "text": [
      "                                                name  \\\n",
      "0  Ritzmann-Müller Betriebsgemeinschaft, 8459 Volken   \n",
      "1         Bauernhof Familie Werffeli, 8104 Weiningen   \n",
      "2                       Hof zur Au, 8165 Schleinikon   \n",
      "3                         Sonnhaldenhof, 5610 Wohlen   \n",
      "4              Streulis Privatbrennerei, 8810 Horgen   \n",
      "\n",
      "                             address  \\\n",
      "0      Flaachtalstr. 43\\n8459 Volken   \n",
      "1  Friedhofstrasse 4\\n8104 Weiningen   \n",
      "2          Auweg 3\\n8165 Schleinikon   \n",
      "3         Sonnhaldenhof\\n5610 Wohlen   \n",
      "4   Rietwiesstrasse 139\\n8810 Horgen   \n",
      "\n",
      "                                        lebensmittel                  geometry  \n",
      "0  [ { \"category\": \"Verkaufsstellen\", \"products\":...  POINT (8.62320 47.57524)  \n",
      "1  [ { \"category\": \"Eier\", \"products\": [ \"Hühnere...  POINT (8.43603 47.42175)  \n",
      "2  [ { \"category\": \"Verkaufsstellen\", \"products\":...  POINT (8.39689 47.49843)  \n",
      "3  [ { \"category\": \"Verkaufsstellen\", \"products\":...  POINT (8.29268 47.34226)  \n",
      "4  [ { \"category\": \"Getränke\", \"products\": [ \"Gin...  POINT (8.62823 47.23969)  \n"
     ]
    }
   ],
   "source": [
    "df_farm_geo = gpd.read_file('../data/processed_data/farms.geojson')\n",
    "\n",
    "df_farm_geo = df_farm_geo.set_crs(epsg=4326, allow_override=True)\n",
    "\n",
    "print(df_farm_geo.head())"
   ]
  },
  {
   "cell_type": "code",
   "execution_count": 4,
   "metadata": {},
   "outputs": [],
   "source": [
    "def find_nearby_farms_for_building(building, nearby_farms_df, farm_dict):\n",
    "    building_nearby_farms = nearby_farms_df[\n",
    "        nearby_farms_df[\"building_index\"] == building.name\n",
    "    ]\n",
    "    farms = []\n",
    "    for _, row in building_nearby_farms.iterrows():\n",
    "        farm_id = row[\"farm_index\"]\n",
    "        farms.append(\n",
    "            {\n",
    "                \"id\": farm_id,\n",
    "                \"distance\": row[\"distance\"],\n",
    "                \"name\": farm_dict[farm_id][\n",
    "                    \"name\"\n",
    "                ]\n",
    "            }\n",
    "        )\n",
    "    return farms"
   ]
  },
  {
   "cell_type": "code",
   "execution_count": 5,
   "metadata": {},
   "outputs": [],
   "source": [
    "import pandas as pd\n",
    "from geopy.distance import geodesic\n",
    "\n",
    "\n",
    "def find_nearby_farms(building_gdf, farm_gdf, max_distance_km):\n",
    "    nearby_farms_list = []\n",
    "    for idx, building in building_gdf.iterrows():\n",
    "        # Ensure correct order of coordinates (latitude, longitude)\n",
    "        building_coords = (building[\"geometry\"].y, building[\"geometry\"].x)\n",
    "\n",
    "        # Filter farms based on distance\n",
    "        for j, farm in farm_gdf.iterrows():\n",
    "            # Ensure correct order of coordinates (latitude, longitude)\n",
    "            farm_coords = (farm[\"geometry\"].y, farm[\"geometry\"].x)\n",
    "            distance = geodesic(building_coords, farm_coords).meters\n",
    "\n",
    "            if distance <= max_distance_km:\n",
    "                nearby_farms_list.append(\n",
    "                    {\"building_index\": idx, \"farm_index\": j, \"distance\": distance}\n",
    "                )\n",
    "\n",
    "    # Convert the results list to a DataFrame\n",
    "    nearby_farms_df = pd.DataFrame(nearby_farms_list)\n",
    "\n",
    "    return nearby_farms_df"
   ]
  },
  {
   "cell_type": "code",
   "execution_count": 6,
   "metadata": {},
   "outputs": [],
   "source": [
    "# Convert farm GeoDataFrame to dictionary for faster lookup\n",
    "farm_dict = df_farm_geo.to_dict(orient=\"index\")\n",
    "\n",
    "max_distance = 10000  # 10 km\n",
    "\n",
    "# Find all nearby farms for each building\n",
    "nearby_farms = find_nearby_farms(df_building_geo, df_farm_geo, max_distance)"
   ]
  },
  {
   "cell_type": "code",
   "execution_count": 7,
   "metadata": {},
   "outputs": [
    {
     "data": {
      "text/html": [
       "<div>\n",
       "<style scoped>\n",
       "    .dataframe tbody tr th:only-of-type {\n",
       "        vertical-align: middle;\n",
       "    }\n",
       "\n",
       "    .dataframe tbody tr th {\n",
       "        vertical-align: top;\n",
       "    }\n",
       "\n",
       "    .dataframe thead th {\n",
       "        text-align: right;\n",
       "    }\n",
       "</style>\n",
       "<table border=\"1\" class=\"dataframe\">\n",
       "  <thead>\n",
       "    <tr style=\"text-align: right;\">\n",
       "      <th></th>\n",
       "      <th>building_index</th>\n",
       "      <th>farm_index</th>\n",
       "      <th>distance</th>\n",
       "    </tr>\n",
       "  </thead>\n",
       "  <tbody>\n",
       "    <tr>\n",
       "      <th>0</th>\n",
       "      <td>103124</td>\n",
       "      <td>6</td>\n",
       "      <td>6420.529978</td>\n",
       "    </tr>\n",
       "    <tr>\n",
       "      <th>1</th>\n",
       "      <td>103124</td>\n",
       "      <td>13</td>\n",
       "      <td>8990.217260</td>\n",
       "    </tr>\n",
       "    <tr>\n",
       "      <th>2</th>\n",
       "      <td>103124</td>\n",
       "      <td>26</td>\n",
       "      <td>7069.523291</td>\n",
       "    </tr>\n",
       "    <tr>\n",
       "      <th>3</th>\n",
       "      <td>103124</td>\n",
       "      <td>31</td>\n",
       "      <td>7135.936047</td>\n",
       "    </tr>\n",
       "    <tr>\n",
       "      <th>4</th>\n",
       "      <td>103124</td>\n",
       "      <td>35</td>\n",
       "      <td>3241.967143</td>\n",
       "    </tr>\n",
       "  </tbody>\n",
       "</table>\n",
       "</div>"
      ],
      "text/plain": [
       "   building_index  farm_index     distance\n",
       "0          103124           6  6420.529978\n",
       "1          103124          13  8990.217260\n",
       "2          103124          26  7069.523291\n",
       "3          103124          31  7135.936047\n",
       "4          103124          35  3241.967143"
      ]
     },
     "execution_count": 7,
     "metadata": {},
     "output_type": "execute_result"
    }
   ],
   "source": [
    "nearby_farms.head()"
   ]
  },
  {
   "cell_type": "code",
   "execution_count": 8,
   "metadata": {},
   "outputs": [],
   "source": [
    "import json\n",
    "\n",
    "with open('../data/processed_data/processed_buildings.geojson', 'r') as file:\n",
    "    original_geojson = json.load(file)\n",
    "\n",
    "nearby_farms_dict = {}\n",
    "for _, row in nearby_farms.iterrows():\n",
    "    if row[\"building_index\"] not in nearby_farms_dict:\n",
    "        nearby_farms_dict[row[\"building_index\"]] = []\n",
    "    nearby_farms_dict[row[\"building_index\"]].append(\n",
    "        {\"farm_id\": row[\"farm_index\"], \"distance\": row[\"distance\"]}\n",
    "    )\n",
    "\n",
    "# Enrich the original GeoJSON with the nearby farms data\n",
    "for feature in original_geojson[\"features\"]:\n",
    "    building_index = feature[\"properties\"][\"egid\"]\n",
    "    if building_index in nearby_farms_dict:\n",
    "        feature[\"properties\"][\"nearby_farms\"] = nearby_farms_dict[building_index]"
   ]
  },
  {
   "cell_type": "code",
   "execution_count": 9,
   "metadata": {},
   "outputs": [],
   "source": [
    "# save\n",
    "output_filename = \"../data/processed_data/enriched_buildings_with_farms.geojson\"\n",
    "with open(output_filename, \"w\") as file:\n",
    "    json.dump(original_geojson, file, ensure_ascii=False, indent=4)"
   ]
  }
 ],
 "metadata": {
  "kernelspec": {
   "display_name": ".venv",
   "language": "python",
   "name": "python3"
  },
  "language_info": {
   "codemirror_mode": {
    "name": "ipython",
    "version": 3
   },
   "file_extension": ".py",
   "mimetype": "text/x-python",
   "name": "python",
   "nbconvert_exporter": "python",
   "pygments_lexer": "ipython3",
   "version": "3.12.2"
  }
 },
 "nbformat": 4,
 "nbformat_minor": 2
}
