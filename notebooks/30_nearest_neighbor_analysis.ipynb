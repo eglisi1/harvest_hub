{
 "cells": [
  {
   "cell_type": "markdown",
   "metadata": {},
   "source": [
    "## prepare geodataframe of buildings"
   ]
  },
  {
   "cell_type": "code",
   "execution_count": null,
   "metadata": {},
   "outputs": [],
   "source": [
    "import geopandas as gpd\n",
    "\n",
    "df_building_geo = gpd.read_file(\"../data/preprocessed_buildings.geojson\")\n",
    "df_building_geo.set_index(\"egid\", inplace=True)\n",
    "\n",
    "df_building_geo.set_crs(epsg=4326, allow_override=True)\n",
    "\n",
    "print(df_building_geo.head())"
   ]
  },
  {
   "cell_type": "markdown",
   "metadata": {},
   "source": [
    "## prepare geodataframe of farms"
   ]
  },
  {
   "cell_type": "code",
   "execution_count": null,
   "metadata": {},
   "outputs": [],
   "source": [
    "df_farm_geo = gpd.read_file('../data/processed_data/farms.geojson')\n",
    "\n",
    "df_farm_geo = df_farm_geo.set_crs(epsg=4326, allow_override=True)\n",
    "\n",
    "print(df_farm_geo.head())"
   ]
  },
  {
   "cell_type": "code",
   "execution_count": null,
   "metadata": {},
   "outputs": [],
   "source": [
    "def find_nearby_farms_for_building(building, nearby_farms_df, farm_dict):\n",
    "    building_nearby_farms = nearby_farms_df[\n",
    "        nearby_farms_df[\"building_index\"] == building.name\n",
    "    ]\n",
    "    farms = []\n",
    "    for _, row in building_nearby_farms.iterrows():\n",
    "        farm_id = row[\"farm_index\"]\n",
    "        farms.append(\n",
    "            {\n",
    "                \"id\": farm_id,\n",
    "                \"distance\": row[\"distance\"],\n",
    "                \"name\": farm_dict[farm_id][\n",
    "                    \"name\"\n",
    "                ]\n",
    "            }\n",
    "        )\n",
    "    return farms"
   ]
  },
  {
   "cell_type": "code",
   "execution_count": null,
   "metadata": {},
   "outputs": [],
   "source": [
    "import pandas as pd\n",
    "from geopy.distance import geodesic\n",
    "\n",
    "\n",
    "def find_nearby_farms(building_gdf, farm_gdf, max_distance_km):\n",
    "    nearby_farms_list = []\n",
    "    for idx, building in building_gdf.iterrows():\n",
    "        # Ensure correct order of coordinates (latitude, longitude)\n",
    "        building_coords = (building[\"geometry\"].y, building[\"geometry\"].x)\n",
    "\n",
    "        # Filter farms based on distance\n",
    "        for j, farm in farm_gdf.iterrows():\n",
    "            # Ensure correct order of coordinates (latitude, longitude)\n",
    "            farm_coords = (farm[\"geometry\"].y, farm[\"geometry\"].x)\n",
    "            distance = geodesic(building_coords, farm_coords).meters\n",
    "\n",
    "            if distance <= max_distance_km:\n",
    "                nearby_farms_list.append(\n",
    "                    {\"building_index\": idx, \"farm_index\": j, \"distance\": distance}\n",
    "                )\n",
    "\n",
    "    # Convert the results list to a DataFrame\n",
    "    nearby_farms_df = pd.DataFrame(nearby_farms_list)\n",
    "\n",
    "    return nearby_farms_df"
   ]
  },
  {
   "cell_type": "code",
   "execution_count": null,
   "metadata": {},
   "outputs": [],
   "source": [
    "# Convert farm GeoDataFrame to dictionary for faster lookup\n",
    "farm_dict = df_farm_geo.to_dict(orient=\"index\")\n",
    "\n",
    "max_distance = 10000  # 10 km\n",
    "\n",
    "# Find all nearby farms for each building\n",
    "nearby_farms = find_nearby_farms(df_building_geo, df_farm_geo, max_distance)"
   ]
  },
  {
   "cell_type": "code",
   "execution_count": null,
   "metadata": {},
   "outputs": [],
   "source": [
    "nearby_farms.head()"
   ]
  },
  {
   "cell_type": "code",
   "execution_count": null,
   "metadata": {},
   "outputs": [],
   "source": [
    "import json\n",
    "\n",
    "with open('../data/processed_data/processed_buildings.geojson', 'r') as file:\n",
    "    original_geojson = json.load(file)\n",
    "\n",
    "nearby_farms_dict = {}\n",
    "for _, row in nearby_farms.iterrows():\n",
    "    if row[\"building_index\"] not in nearby_farms_dict:\n",
    "        nearby_farms_dict[row[\"building_index\"]] = []\n",
    "    nearby_farms_dict[row[\"building_index\"]].append(\n",
    "        {\"farm_id\": row[\"farm_index\"], \"distance\": row[\"distance\"]}\n",
    "    )\n",
    "\n",
    "# Enrich the original GeoJSON with the nearby farms data\n",
    "for feature in original_geojson[\"features\"]:\n",
    "    building_index = feature[\"properties\"][\"egid\"]\n",
    "    if building_index in nearby_farms_dict:\n",
    "        feature[\"properties\"][\"nearby_farms\"] = nearby_farms_dict[building_index]"
   ]
  },
  {
   "cell_type": "code",
   "execution_count": null,
   "metadata": {},
   "outputs": [],
   "source": [
    "# save\n",
    "output_filename = \"../data/processed_data/enriched_buildings_with_farms.geojson\"\n",
    "with open(output_filename, \"w\") as file:\n",
    "    json.dump(original_geojson, file, ensure_ascii=False, indent=4)"
   ]
  }
 ],
 "metadata": {
  "kernelspec": {
   "display_name": ".venv",
   "language": "python",
   "name": "python3"
  },
  "language_info": {
   "codemirror_mode": {
    "name": "ipython",
    "version": 3
   },
   "file_extension": ".py",
   "mimetype": "text/x-python",
   "name": "python",
   "nbconvert_exporter": "python",
   "pygments_lexer": "ipython3",
   "version": "3.12.3"
  }
 },
 "nbformat": 4,
 "nbformat_minor": 2
}
