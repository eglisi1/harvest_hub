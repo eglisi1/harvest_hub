{
 "cells": [
  {
   "cell_type": "code",
   "execution_count": 23,
   "metadata": {
    "collapsed": true,
    "ExecuteTime": {
     "end_time": "2024-05-11T08:40:58.585599Z",
     "start_time": "2024-05-11T08:40:58.553991200Z"
    }
   },
   "outputs": [],
   "source": [
    "import json\n",
    "import geopandas as gpd\n",
    "from collections import defaultdict"
   ]
  },
  {
   "cell_type": "code",
   "execution_count": 4,
   "outputs": [],
   "source": [
    "file_path = '../data/processed_data/top_500_buildings_with_farms_details.geojson'\n",
    "with open(file_path, 'r') as file:\n",
    "    geojson_data = json.load(file)\n",
    "\n",
    "buildings_per_municipality = defaultdict(list)"
   ],
   "metadata": {
    "collapsed": false,
    "ExecuteTime": {
     "end_time": "2024-05-11T08:26:46.134025Z",
     "start_time": "2024-05-11T08:26:45.605609400Z"
    }
   }
  },
  {
   "cell_type": "code",
   "execution_count": 5,
   "outputs": [],
   "source": [
    "for feature in geojson_data['features']:\n",
    "    municipality_number = feature['properties']['municipalityNumber']\n",
    "    buildings_per_municipality[municipality_number].append(feature)"
   ],
   "metadata": {
    "collapsed": false,
    "ExecuteTime": {
     "end_time": "2024-05-11T08:27:28.539256700Z",
     "start_time": "2024-05-11T08:27:28.530470Z"
    }
   }
  },
  {
   "cell_type": "code",
   "execution_count": 7,
   "outputs": [],
   "source": [
    "def total_products(building):\n",
    "    return sum(len(farm['products']) for farm in building['properties']['nearby_farms'])"
   ],
   "metadata": {
    "collapsed": false,
    "ExecuteTime": {
     "end_time": "2024-05-11T08:27:53.959713Z",
     "start_time": "2024-05-11T08:27:53.956800900Z"
    }
   }
  },
  {
   "cell_type": "code",
   "execution_count": 13,
   "outputs": [],
   "source": [
    "selected_buildings = []\n",
    "for municipality, buildings in buildings_per_municipality.items():\n",
    "    best_building = max(buildings, key=total_products)\n",
    "    selected_buildings.append(best_building)\n",
    "\n",
    "output_geojson = {\n",
    "    \"type\": \"FeatureCollection\",\n",
    "    \"features\": selected_buildings\n",
    "}"
   ],
   "metadata": {
    "collapsed": false,
    "ExecuteTime": {
     "end_time": "2024-05-11T08:34:36.339930800Z",
     "start_time": "2024-05-11T08:34:36.339418600Z"
    }
   }
  },
  {
   "cell_type": "code",
   "execution_count": 25,
   "outputs": [],
   "source": [
    "output_file_path = '../data/processed_data/top_building_per_municipality.geojson'  # Update this with your desired output file path\n",
    "with open(output_file_path, 'w') as outfile:\n",
    "    json.dump(output_geojson, outfile, ensure_ascii=False, indent=4)"
   ],
   "metadata": {
    "collapsed": false,
    "ExecuteTime": {
     "end_time": "2024-05-11T08:42:12.072794900Z",
     "start_time": "2024-05-11T08:42:11.969620Z"
    }
   }
  },
  {
   "cell_type": "code",
   "execution_count": 28,
   "outputs": [
    {
     "name": "stdout",
     "output_type": "stream",
     "text": [
      "original gdf size: (500, 9)\n",
      "filtered gdf size: (27, 9)\n"
     ]
    }
   ],
   "source": [
    "original_gdf = gpd.read_file('../data/processed_data/top_500_buildings_with_farms_details.geojson')\n",
    "print(f'original gdf size: {original_gdf.shape}')\n",
    "\n",
    "filtered_gdf = gpd.read_file('../data/processed_data/top_building_per_municipality.geojson')\n",
    "print(f'filtered gdf size: {filtered_gdf.shape}')"
   ],
   "metadata": {
    "collapsed": false,
    "ExecuteTime": {
     "end_time": "2024-05-11T08:42:37.737010200Z",
     "start_time": "2024-05-11T08:42:35.435024700Z"
    }
   }
  },
  {
   "cell_type": "code",
   "execution_count": 29,
   "outputs": [
    {
     "data": {
      "text/plain": "         egid  buildingStatus  buildingCategory  buildingClass  \\\n0   210197731            1004              1060           1252   \n1   210202495            1004              1060           1252   \n2   210213365            1004              1060           1252   \n3   210101181            1004              1060           1252   \n4   210182556            1004              1060           1252   \n5   210298382            1004              1060           1252   \n6   210189959            1004              1060           1252   \n7   210210638            1004              1060           1252   \n8   210166184            1004              1060           1252   \n9   210221491            1004              1060           1252   \n10  210116110            1004              1060           1252   \n11  201005577            1004              1060           1252   \n12  210139696            1004              1060           1252   \n13  210202789            1004              1060           1252   \n14  201026432            1004              1060           1252   \n15  210211473            1004              1060           1252   \n16  210295455            1004              1060           1252   \n17  210095292            1004              1060           1252   \n18    2273321            1004              1060           1252   \n19  210212361            1004              1060           1252   \n20  210243939            1004              1060           1252   \n21  210199802            1004              1060           1252   \n22  210215819            1004              1060           1252   \n23  201038820            1004              1060           1252   \n24  302014916            1004              1060           1252   \n25  210207639            1004              1060           1252   \n26    9060302            1004              1060           1252   \n\n    municipalityNumber      municipalityName  \\\n0                  159        Uetikon am See   \n1                  155            MÃ¤nnedorf   \n2                  157         Oetwil am See   \n3                  121         Wetzikon (ZH)   \n4                  192                   Egg   \n5                  115           Gossau (ZH)   \n6                   90           Niederhasli   \n7                   92             Oberglatt   \n8                   89           Niederglatt   \n9                  153         Hombrechtikon   \n10                 156                Meilen   \n11                 196          MÃ¶nchaltorf   \n12                 221            Hettlingen   \n13                 117                Hinwil   \n14                 214             DÃ¤gerlen   \n15                  51         BachenbÃ¼lach   \n16                 158                StÃ¤fa   \n17                 116            GrÃ¼ningen   \n18                  97              RÃ¼mlang   \n19                  53               BÃ¼lach   \n20                  39  Thalheim an der Thur   \n21                  60                 HÃ¶ri   \n22                  96            Regensdorf   \n23                 119            SeegrÃ¤ben   \n24                 261               ZÃ¼rich   \n25                  33      Kleinandelfingen   \n26                  31              Henggart   \n\n                                         nearby_farms  total_products  \\\n0   [ { \"farm_id\": 4.0, \"distance\": 5996.964112004...             802   \n1   [ { \"farm_id\": 4.0, \"distance\": 6068.202328155...             788   \n2   [ { \"farm_id\": 4.0, \"distance\": 8368.715941914...             782   \n3   [ { \"farm_id\": 11.0, \"distance\": 5166.19822639...             767   \n4   [ { \"farm_id\": 4.0, \"distance\": 7268.427190714...             761   \n5   [ { \"farm_id\": 11.0, \"distance\": 6086.79343321...             751   \n6   [ { \"farm_id\": 1.0, \"distance\": 7874.505799069...             736   \n7   [ { \"farm_id\": 1.0, \"distance\": 8372.077397345...             733   \n8   [ { \"farm_id\": 1.0, \"distance\": 9017.530012389...             732   \n9   [ { \"farm_id\": 4.0, \"distance\": 9048.693102463...             729   \n10  [ { \"farm_id\": 4.0, \"distance\": 5967.477033998...             727   \n11  [ { \"farm_id\": 14.0, \"distance\": 6163.36608521...             723   \n12  [ { \"farm_id\": 0.0, \"distance\": 7043.980568686...             701   \n13  [ { \"farm_id\": 11.0, \"distance\": 4225.11796852...             699   \n14  [ { \"farm_id\": 0.0, \"distance\": 6936.416028824...             692   \n15  [ { \"farm_id\": 0.0, \"distance\": 9256.145147627...             683   \n16  [ { \"farm_id\": 4.0, \"distance\": 7454.795262410...             679   \n17  [ { \"farm_id\": 11.0, \"distance\": 9199.72140440...             677   \n18  [ { \"farm_id\": 1.0, \"distance\": 8051.394766812...             674   \n19  [ { \"farm_id\": 0.0, \"distance\": 8761.776236405...             668   \n20  [ { \"farm_id\": 0.0, \"distance\": 7784.265188998...             666   \n21  [ { \"farm_id\": 1.0, \"distance\": 9998.449756765...             656   \n22  [ { \"farm_id\": 1.0, \"distance\": 4596.869259339...             655   \n23  [ { \"farm_id\": 11.0, \"distance\": 7036.98974993...             644   \n24  [ { \"farm_id\": 1.0, \"distance\": 5405.484732325...             644   \n25  [ { \"farm_id\": 0.0, \"distance\": 5195.797154037...             640   \n26  [ { \"farm_id\": 0.0, \"distance\": 4675.712621384...             640   \n\n                    geometry  \n0   POINT (8.68949 47.27389)  \n1   POINT (8.69679 47.26797)  \n2   POINT (8.72525 47.27579)  \n3   POINT (8.79499 47.31702)  \n4   POINT (8.69620 47.28587)  \n5   POINT (8.78311 47.31503)  \n6   POINT (8.50099 47.47720)  \n7   POINT (8.50167 47.48248)  \n8   POINT (8.50458 47.48821)  \n9   POINT (8.74263 47.26328)  \n10  POINT (8.67011 47.28516)  \n11  POINT (8.73629 47.29666)  \n12  POINT (8.70848 47.54913)  \n13  POINT (8.81099 47.30888)  \n14  POINT (8.71523 47.57155)  \n15  POINT (8.54987 47.50842)  \n16  POINT (8.72575 47.24894)  \n17  POINT (8.75667 47.28274)  \n18  POINT (8.52313 47.46362)  \n19  POINT (8.54939 47.51431)  \n20  POINT (8.72527 47.58674)  \n21  POINT (8.49787 47.50130)  \n22  POINT (8.48451 47.44680)  \n23  POINT (8.77133 47.33543)  \n24  POINT (8.50727 47.42690)  \n25  POINT (8.68398 47.59745)  \n26  POINT (8.68352 47.56514)  ",
      "text/html": "<div>\n<style scoped>\n    .dataframe tbody tr th:only-of-type {\n        vertical-align: middle;\n    }\n\n    .dataframe tbody tr th {\n        vertical-align: top;\n    }\n\n    .dataframe thead th {\n        text-align: right;\n    }\n</style>\n<table border=\"1\" class=\"dataframe\">\n  <thead>\n    <tr style=\"text-align: right;\">\n      <th></th>\n      <th>egid</th>\n      <th>buildingStatus</th>\n      <th>buildingCategory</th>\n      <th>buildingClass</th>\n      <th>municipalityNumber</th>\n      <th>municipalityName</th>\n      <th>nearby_farms</th>\n      <th>total_products</th>\n      <th>geometry</th>\n    </tr>\n  </thead>\n  <tbody>\n    <tr>\n      <th>0</th>\n      <td>210197731</td>\n      <td>1004</td>\n      <td>1060</td>\n      <td>1252</td>\n      <td>159</td>\n      <td>Uetikon am See</td>\n      <td>[ { \"farm_id\": 4.0, \"distance\": 5996.964112004...</td>\n      <td>802</td>\n      <td>POINT (8.68949 47.27389)</td>\n    </tr>\n    <tr>\n      <th>1</th>\n      <td>210202495</td>\n      <td>1004</td>\n      <td>1060</td>\n      <td>1252</td>\n      <td>155</td>\n      <td>MÃ¤nnedorf</td>\n      <td>[ { \"farm_id\": 4.0, \"distance\": 6068.202328155...</td>\n      <td>788</td>\n      <td>POINT (8.69679 47.26797)</td>\n    </tr>\n    <tr>\n      <th>2</th>\n      <td>210213365</td>\n      <td>1004</td>\n      <td>1060</td>\n      <td>1252</td>\n      <td>157</td>\n      <td>Oetwil am See</td>\n      <td>[ { \"farm_id\": 4.0, \"distance\": 8368.715941914...</td>\n      <td>782</td>\n      <td>POINT (8.72525 47.27579)</td>\n    </tr>\n    <tr>\n      <th>3</th>\n      <td>210101181</td>\n      <td>1004</td>\n      <td>1060</td>\n      <td>1252</td>\n      <td>121</td>\n      <td>Wetzikon (ZH)</td>\n      <td>[ { \"farm_id\": 11.0, \"distance\": 5166.19822639...</td>\n      <td>767</td>\n      <td>POINT (8.79499 47.31702)</td>\n    </tr>\n    <tr>\n      <th>4</th>\n      <td>210182556</td>\n      <td>1004</td>\n      <td>1060</td>\n      <td>1252</td>\n      <td>192</td>\n      <td>Egg</td>\n      <td>[ { \"farm_id\": 4.0, \"distance\": 7268.427190714...</td>\n      <td>761</td>\n      <td>POINT (8.69620 47.28587)</td>\n    </tr>\n    <tr>\n      <th>5</th>\n      <td>210298382</td>\n      <td>1004</td>\n      <td>1060</td>\n      <td>1252</td>\n      <td>115</td>\n      <td>Gossau (ZH)</td>\n      <td>[ { \"farm_id\": 11.0, \"distance\": 6086.79343321...</td>\n      <td>751</td>\n      <td>POINT (8.78311 47.31503)</td>\n    </tr>\n    <tr>\n      <th>6</th>\n      <td>210189959</td>\n      <td>1004</td>\n      <td>1060</td>\n      <td>1252</td>\n      <td>90</td>\n      <td>Niederhasli</td>\n      <td>[ { \"farm_id\": 1.0, \"distance\": 7874.505799069...</td>\n      <td>736</td>\n      <td>POINT (8.50099 47.47720)</td>\n    </tr>\n    <tr>\n      <th>7</th>\n      <td>210210638</td>\n      <td>1004</td>\n      <td>1060</td>\n      <td>1252</td>\n      <td>92</td>\n      <td>Oberglatt</td>\n      <td>[ { \"farm_id\": 1.0, \"distance\": 8372.077397345...</td>\n      <td>733</td>\n      <td>POINT (8.50167 47.48248)</td>\n    </tr>\n    <tr>\n      <th>8</th>\n      <td>210166184</td>\n      <td>1004</td>\n      <td>1060</td>\n      <td>1252</td>\n      <td>89</td>\n      <td>Niederglatt</td>\n      <td>[ { \"farm_id\": 1.0, \"distance\": 9017.530012389...</td>\n      <td>732</td>\n      <td>POINT (8.50458 47.48821)</td>\n    </tr>\n    <tr>\n      <th>9</th>\n      <td>210221491</td>\n      <td>1004</td>\n      <td>1060</td>\n      <td>1252</td>\n      <td>153</td>\n      <td>Hombrechtikon</td>\n      <td>[ { \"farm_id\": 4.0, \"distance\": 9048.693102463...</td>\n      <td>729</td>\n      <td>POINT (8.74263 47.26328)</td>\n    </tr>\n    <tr>\n      <th>10</th>\n      <td>210116110</td>\n      <td>1004</td>\n      <td>1060</td>\n      <td>1252</td>\n      <td>156</td>\n      <td>Meilen</td>\n      <td>[ { \"farm_id\": 4.0, \"distance\": 5967.477033998...</td>\n      <td>727</td>\n      <td>POINT (8.67011 47.28516)</td>\n    </tr>\n    <tr>\n      <th>11</th>\n      <td>201005577</td>\n      <td>1004</td>\n      <td>1060</td>\n      <td>1252</td>\n      <td>196</td>\n      <td>MÃ¶nchaltorf</td>\n      <td>[ { \"farm_id\": 14.0, \"distance\": 6163.36608521...</td>\n      <td>723</td>\n      <td>POINT (8.73629 47.29666)</td>\n    </tr>\n    <tr>\n      <th>12</th>\n      <td>210139696</td>\n      <td>1004</td>\n      <td>1060</td>\n      <td>1252</td>\n      <td>221</td>\n      <td>Hettlingen</td>\n      <td>[ { \"farm_id\": 0.0, \"distance\": 7043.980568686...</td>\n      <td>701</td>\n      <td>POINT (8.70848 47.54913)</td>\n    </tr>\n    <tr>\n      <th>13</th>\n      <td>210202789</td>\n      <td>1004</td>\n      <td>1060</td>\n      <td>1252</td>\n      <td>117</td>\n      <td>Hinwil</td>\n      <td>[ { \"farm_id\": 11.0, \"distance\": 4225.11796852...</td>\n      <td>699</td>\n      <td>POINT (8.81099 47.30888)</td>\n    </tr>\n    <tr>\n      <th>14</th>\n      <td>201026432</td>\n      <td>1004</td>\n      <td>1060</td>\n      <td>1252</td>\n      <td>214</td>\n      <td>DÃ¤gerlen</td>\n      <td>[ { \"farm_id\": 0.0, \"distance\": 6936.416028824...</td>\n      <td>692</td>\n      <td>POINT (8.71523 47.57155)</td>\n    </tr>\n    <tr>\n      <th>15</th>\n      <td>210211473</td>\n      <td>1004</td>\n      <td>1060</td>\n      <td>1252</td>\n      <td>51</td>\n      <td>BachenbÃ¼lach</td>\n      <td>[ { \"farm_id\": 0.0, \"distance\": 9256.145147627...</td>\n      <td>683</td>\n      <td>POINT (8.54987 47.50842)</td>\n    </tr>\n    <tr>\n      <th>16</th>\n      <td>210295455</td>\n      <td>1004</td>\n      <td>1060</td>\n      <td>1252</td>\n      <td>158</td>\n      <td>StÃ¤fa</td>\n      <td>[ { \"farm_id\": 4.0, \"distance\": 7454.795262410...</td>\n      <td>679</td>\n      <td>POINT (8.72575 47.24894)</td>\n    </tr>\n    <tr>\n      <th>17</th>\n      <td>210095292</td>\n      <td>1004</td>\n      <td>1060</td>\n      <td>1252</td>\n      <td>116</td>\n      <td>GrÃ¼ningen</td>\n      <td>[ { \"farm_id\": 11.0, \"distance\": 9199.72140440...</td>\n      <td>677</td>\n      <td>POINT (8.75667 47.28274)</td>\n    </tr>\n    <tr>\n      <th>18</th>\n      <td>2273321</td>\n      <td>1004</td>\n      <td>1060</td>\n      <td>1252</td>\n      <td>97</td>\n      <td>RÃ¼mlang</td>\n      <td>[ { \"farm_id\": 1.0, \"distance\": 8051.394766812...</td>\n      <td>674</td>\n      <td>POINT (8.52313 47.46362)</td>\n    </tr>\n    <tr>\n      <th>19</th>\n      <td>210212361</td>\n      <td>1004</td>\n      <td>1060</td>\n      <td>1252</td>\n      <td>53</td>\n      <td>BÃ¼lach</td>\n      <td>[ { \"farm_id\": 0.0, \"distance\": 8761.776236405...</td>\n      <td>668</td>\n      <td>POINT (8.54939 47.51431)</td>\n    </tr>\n    <tr>\n      <th>20</th>\n      <td>210243939</td>\n      <td>1004</td>\n      <td>1060</td>\n      <td>1252</td>\n      <td>39</td>\n      <td>Thalheim an der Thur</td>\n      <td>[ { \"farm_id\": 0.0, \"distance\": 7784.265188998...</td>\n      <td>666</td>\n      <td>POINT (8.72527 47.58674)</td>\n    </tr>\n    <tr>\n      <th>21</th>\n      <td>210199802</td>\n      <td>1004</td>\n      <td>1060</td>\n      <td>1252</td>\n      <td>60</td>\n      <td>HÃ¶ri</td>\n      <td>[ { \"farm_id\": 1.0, \"distance\": 9998.449756765...</td>\n      <td>656</td>\n      <td>POINT (8.49787 47.50130)</td>\n    </tr>\n    <tr>\n      <th>22</th>\n      <td>210215819</td>\n      <td>1004</td>\n      <td>1060</td>\n      <td>1252</td>\n      <td>96</td>\n      <td>Regensdorf</td>\n      <td>[ { \"farm_id\": 1.0, \"distance\": 4596.869259339...</td>\n      <td>655</td>\n      <td>POINT (8.48451 47.44680)</td>\n    </tr>\n    <tr>\n      <th>23</th>\n      <td>201038820</td>\n      <td>1004</td>\n      <td>1060</td>\n      <td>1252</td>\n      <td>119</td>\n      <td>SeegrÃ¤ben</td>\n      <td>[ { \"farm_id\": 11.0, \"distance\": 7036.98974993...</td>\n      <td>644</td>\n      <td>POINT (8.77133 47.33543)</td>\n    </tr>\n    <tr>\n      <th>24</th>\n      <td>302014916</td>\n      <td>1004</td>\n      <td>1060</td>\n      <td>1252</td>\n      <td>261</td>\n      <td>ZÃ¼rich</td>\n      <td>[ { \"farm_id\": 1.0, \"distance\": 5405.484732325...</td>\n      <td>644</td>\n      <td>POINT (8.50727 47.42690)</td>\n    </tr>\n    <tr>\n      <th>25</th>\n      <td>210207639</td>\n      <td>1004</td>\n      <td>1060</td>\n      <td>1252</td>\n      <td>33</td>\n      <td>Kleinandelfingen</td>\n      <td>[ { \"farm_id\": 0.0, \"distance\": 5195.797154037...</td>\n      <td>640</td>\n      <td>POINT (8.68398 47.59745)</td>\n    </tr>\n    <tr>\n      <th>26</th>\n      <td>9060302</td>\n      <td>1004</td>\n      <td>1060</td>\n      <td>1252</td>\n      <td>31</td>\n      <td>Henggart</td>\n      <td>[ { \"farm_id\": 0.0, \"distance\": 4675.712621384...</td>\n      <td>640</td>\n      <td>POINT (8.68352 47.56514)</td>\n    </tr>\n  </tbody>\n</table>\n</div>"
     },
     "execution_count": 29,
     "metadata": {},
     "output_type": "execute_result"
    }
   ],
   "source": [
    "filtered_gdf.head(27)"
   ],
   "metadata": {
    "collapsed": false,
    "ExecuteTime": {
     "end_time": "2024-05-11T08:42:38.733513600Z",
     "start_time": "2024-05-11T08:42:38.701899500Z"
    }
   }
  }
 ],
 "metadata": {
  "kernelspec": {
   "display_name": "Python 3",
   "language": "python",
   "name": "python3"
  },
  "language_info": {
   "codemirror_mode": {
    "name": "ipython",
    "version": 2
   },
   "file_extension": ".py",
   "mimetype": "text/x-python",
   "name": "python",
   "nbconvert_exporter": "python",
   "pygments_lexer": "ipython2",
   "version": "2.7.6"
  }
 },
 "nbformat": 4,
 "nbformat_minor": 0
}
