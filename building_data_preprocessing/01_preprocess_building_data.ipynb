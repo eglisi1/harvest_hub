{
 "cells": [
  {
   "cell_type": "markdown",
   "source": [
    "## Setup"
   ],
   "metadata": {
    "collapsed": false
   }
  },
  {
   "cell_type": "code",
   "execution_count": 48,
   "outputs": [],
   "source": [
    "import json\n",
    "\n",
    "from pyproj import Transformer"
   ],
   "metadata": {
    "collapsed": false,
    "ExecuteTime": {
     "end_time": "2024-03-28T12:51:36.577057Z",
     "start_time": "2024-03-28T12:51:36.575148Z"
    }
   }
  },
  {
   "cell_type": "code",
   "execution_count": 34,
   "outputs": [],
   "source": [
    "# load data\n",
    "\n",
    "with open('../data/buildings.geojson', 'r') as file:\n",
    "    data = json.load(file)"
   ],
   "metadata": {
    "collapsed": false,
    "ExecuteTime": {
     "end_time": "2024-03-28T12:39:20.405242Z",
     "start_time": "2024-03-28T12:39:17.220476800Z"
    }
   }
  },
  {
   "cell_type": "markdown",
   "source": [
    "## Data Exploration"
   ],
   "metadata": {
    "collapsed": false
   }
  },
  {
   "cell_type": "markdown",
   "source": [],
   "metadata": {
    "collapsed": false
   }
  },
  {
   "cell_type": "code",
   "execution_count": 35,
   "outputs": [
    {
     "name": "stdout",
     "output_type": "stream",
     "text": [
      "393297 building entries in the dataset\n"
     ]
    }
   ],
   "source": [
    "# How many features are in the dataset?\n",
    "\n",
    "total_features = len(data['features'])\n",
    "print(f'{total_features} building entries in the dataset')"
   ],
   "metadata": {
    "collapsed": false,
    "ExecuteTime": {
     "end_time": "2024-03-28T12:39:23.255029500Z",
     "start_time": "2024-03-28T12:39:23.248049Z"
    }
   }
  },
  {
   "cell_type": "code",
   "execution_count": 36,
   "outputs": [
    {
     "name": "stdout",
     "output_type": "stream",
     "text": [
      "4766 entries with buildingClass 1252 (Behälter, Silos und Lagergebäude )\n"
     ]
    }
   ],
   "source": [
    "# How many buildings are there with the Class 1252 (Behälter, Silos und Lagergebäude )?\n",
    "\n",
    "count_1252 = sum(1 for feature in data['features'] if feature['properties'].get('buildingClass') == 1252)\n",
    "\n",
    "print(f'{count_1252} entries with buildingClass 1252 (Behälter, Silos und Lagergebäude)')"
   ],
   "metadata": {
    "collapsed": false,
    "ExecuteTime": {
     "end_time": "2024-03-28T12:40:01.193537200Z",
     "start_time": "2024-03-28T12:40:01.134695200Z"
    }
   }
  },
  {
   "cell_type": "code",
   "execution_count": 38,
   "outputs": [
    {
     "name": "stdout",
     "output_type": "stream",
     "text": [
      "4031 buildings with class 1252 and status 1004 (Bestehend)\n"
     ]
    }
   ],
   "source": [
    "# How many of those buildings do have the status 1004 (Bestehend)?\n",
    "\n",
    "# Count buildings with specified class and status\n",
    "count = sum(\n",
    "    1\n",
    "    for feature in data['features']\n",
    "    if feature['properties'].get('buildingClass') == 1252 and\n",
    "       feature['properties'].get('buildingStatus') == 1004\n",
    ")\n",
    "\n",
    "print(f'{count} buildings with class 1252 and status 1004 (Bestehend)')\n"
   ],
   "metadata": {
    "collapsed": false,
    "ExecuteTime": {
     "end_time": "2024-03-28T12:41:43.723683800Z",
     "start_time": "2024-03-28T12:41:43.662847100Z"
    }
   }
  },
  {
   "cell_type": "markdown",
   "source": [
    "With the data from before this means that from the 4'766 entries that have the correct class, 4'031 are technically \"available\" as of now."
   ],
   "metadata": {
    "collapsed": false
   }
  },
  {
   "cell_type": "code",
   "execution_count": 40,
   "outputs": [
    {
     "name": "stdout",
     "output_type": "stream",
     "text": [
      "3605 buildings with class 1252, status 1004 and category 1060 (Gebäude ohne Wohnnutzung)\n"
     ]
    }
   ],
   "source": [
    "# How many of those buildings have the buildingCategory 1060 (Gebäude ohne Wohnnutzung)\n",
    "\n",
    "count = sum(\n",
    "    1\n",
    "    for feature in data['features']\n",
    "    if feature['properties'].get('buildingClass') == 1252 and\n",
    "       feature['properties'].get('buildingStatus') == 1004 and\n",
    "       feature['properties'].get('buildingCategory') == 1060\n",
    ")\n",
    "\n",
    "\n",
    "print(f'{count} buildings with class 1252, status 1004 and category 1060 (Gebäude ohne Wohnnutzung)')\n"
   ],
   "metadata": {
    "collapsed": false,
    "ExecuteTime": {
     "end_time": "2024-03-28T12:44:08.766369800Z",
     "start_time": "2024-03-28T12:44:08.702885500Z"
    }
   }
  },
  {
   "cell_type": "markdown",
   "source": [
    "This means we are left with 3'605 possible storage locations in the canton of Zurich."
   ],
   "metadata": {
    "collapsed": false
   }
  },
  {
   "cell_type": "markdown",
   "source": [
    "## Data Preprocessing"
   ],
   "metadata": {
    "collapsed": false
   }
  },
  {
   "cell_type": "code",
   "execution_count": 41,
   "outputs": [],
   "source": [
    "# Remove the 'canton' property from each feature, since we just have data from \"ZH\"\n",
    "\n",
    "for feature in data['features']:\n",
    "    if 'canton' in feature['properties']:\n",
    "        del feature['properties']['canton']"
   ],
   "metadata": {
    "collapsed": false,
    "ExecuteTime": {
     "end_time": "2024-03-28T12:45:29.733915100Z",
     "start_time": "2024-03-28T12:45:29.653131900Z"
    }
   }
  },
  {
   "cell_type": "code",
   "execution_count": 42,
   "outputs": [],
   "source": [
    "# filter out unneeded data\n",
    "\n",
    "filtered_features = [\n",
    "    feature\n",
    "    for feature in data['features']\n",
    "        if feature['properties'].get('buildingClass') == 1252 and\n",
    "            feature['properties'].get('buildingStatus') == 1004 and\n",
    "            feature['properties'].get('buildingCategory') == 1060\n",
    "]\n",
    "\n",
    "data['features'] = filtered_features"
   ],
   "metadata": {
    "collapsed": false,
    "ExecuteTime": {
     "end_time": "2024-03-28T12:45:32.207130500Z",
     "start_time": "2024-03-28T12:45:32.066927200Z"
    }
   }
  },
  {
   "cell_type": "code",
   "execution_count": 43,
   "outputs": [],
   "source": [
    "# transform spatial data from EPSG:2056 (mainly used in Switzerland) to EPSG:4326 (global standard)\n",
    "\n",
    "transformer = Transformer.from_crs(\"EPSG:2056\", \"EPSG:4326\", always_xy=True)\n",
    "\n",
    "for feature in data['features']:\n",
    "    x, y = feature['geometry']['coordinates']\n",
    "    lon, lat = transformer.transform(x, y)\n",
    "    feature['geometry']['coordinates'] = [lon, lat]"
   ],
   "metadata": {
    "collapsed": false,
    "ExecuteTime": {
     "end_time": "2024-03-28T12:46:56.266741700Z",
     "start_time": "2024-03-28T12:46:56.225351200Z"
    }
   }
  },
  {
   "cell_type": "markdown",
   "source": [
    "## Save data"
   ],
   "metadata": {
    "collapsed": false
   }
  },
  {
   "cell_type": "code",
   "execution_count": 44,
   "outputs": [],
   "source": [
    "with open('../data/preprocessed_buildings.geojson', 'w') as file:\n",
    "    json.dump(data, file, indent=4)"
   ],
   "metadata": {
    "collapsed": false,
    "ExecuteTime": {
     "end_time": "2024-03-28T12:47:07.086274800Z",
     "start_time": "2024-03-28T12:47:06.927922700Z"
    }
   }
  },
  {
   "cell_type": "code",
   "execution_count": 47,
   "outputs": [
    {
     "name": "stdout",
     "output_type": "stream",
     "text": [
      "3605 building entries saved in the preprocessed dataset\n"
     ]
    }
   ],
   "source": [
    "# count preprocessed buildings\n",
    "\n",
    "with open('../data/preprocessed_buildings.geojson', 'r') as file:\n",
    "    preprocessed_data = json.load(file)\n",
    "\n",
    "total_buildings = len(preprocessed_data['features'])\n",
    "print(f'{total_buildings} building entries saved in the preprocessed dataset')"
   ],
   "metadata": {
    "collapsed": false,
    "ExecuteTime": {
     "end_time": "2024-03-28T12:47:24.402756800Z",
     "start_time": "2024-03-28T12:47:24.379313400Z"
    }
   }
  }
 ],
 "metadata": {
  "kernelspec": {
   "display_name": "Python 3",
   "language": "python",
   "name": "python3"
  },
  "language_info": {
   "codemirror_mode": {
    "name": "ipython",
    "version": 2
   },
   "file_extension": ".py",
   "mimetype": "text/x-python",
   "name": "python",
   "nbconvert_exporter": "python",
   "pygments_lexer": "ipython2",
   "version": "2.7.6"
  }
 },
 "nbformat": 4,
 "nbformat_minor": 0
}
